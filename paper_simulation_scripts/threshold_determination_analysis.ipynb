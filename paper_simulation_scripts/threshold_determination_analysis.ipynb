{
 "cells": [
  {
   "cell_type": "markdown",
   "metadata": {
    "collapsed": true,
    "pycharm": {
     "name": "#%% md\n"
    }
   },
   "source": [
    "# Threshold determination analysis\n",
    "\n",
    "We want to find the optimal threshold for the inclusion probability of SCDCdm.\n",
    "Benchmark details see paper."
   ]
  },
  {
   "cell_type": "code",
   "execution_count": 1,
   "outputs": [],
   "source": [
    "# Setup\n",
    "import warnings\n",
    "warnings.filterwarnings(\"ignore\")\n",
    "\n",
    "import pandas as pd\n",
    "import matplotlib.pyplot as plt\n",
    "import seaborn as sns\n",
    "import numpy as np\n",
    "import arviz as az\n",
    "import os\n",
    "import pickle as pkl\n",
    "\n",
    "from scdcdm.util import comp_ana as mod\n",
    "from scdcdm.util import cell_composition_data as dat\n",
    "import paper_simulation_scripts.benchmark_utils as util"
   ],
   "metadata": {
    "collapsed": false,
    "pycharm": {
     "name": "#%%\n",
     "is_executing": false
    }
   }
  },
  {
   "cell_type": "markdown",
   "source": [
    "Preparation: File location,\n",
    "thresholding function to calculate inclusion probabilities,\n",
    "output format\n",
    "\n",
    "We apply every threshold in $$\\{0.05, ..., 0.95\\}$$ to the results determined by SCDCdm and \n",
    "then calculate the according classification statistics (mcc, true positive rate, true negative rate, ...)\n",
    "\n",
    "The output will be a dictionary with one DataFrame for every threshold"
   ],
   "metadata": {
    "collapsed": false,
    "pycharm": {
     "name": "#%% md\n"
    }
   }
  },
  {
   "cell_type": "code",
   "execution_count": 2,
   "outputs": [],
   "source": [
    "# Get file names\n",
    "save_path = \"C:\\\\Users\\\\Johannes\\\\Documents\\\\Uni\\\\Master's_Thesis\\\\SCDCdm\\\\data\\\\threshold_determination\\\\threshold_determination_005_balanced\\\\\"\n",
    "files = os.listdir(save_path)\n",
    "\n",
    "# Thresholding inclusion probabilities\n",
    "def recalculate_inc_prob(inc_probs, threshold):\n",
    "    return [p > threshold for p in inc_probs]"
   ],
   "metadata": {
    "collapsed": false,
    "pycharm": {
     "name": "#%%\n",
     "is_executing": false
    }
   }
  },
  {
   "cell_type": "code",
   "execution_count": 3,
   "outputs": [],
   "source": [
    "# Prepare output: Dict with one df for each threshold that contains evaluation of all datasets\n",
    "sim_columns = ['n_cell_types', 'n_cells', 'n_controls',\n",
    "               'n_cases', 'Base', 'Increase',\n",
    "               'log-fold increase', 'b_true', 'w_true']\n",
    "\n",
    "thresholds = np.round(np.arange(0.01, 1., 0.01), 2)"
   ],
   "metadata": {
    "collapsed": false,
    "pycharm": {
     "name": "#%%\n",
     "is_executing": false
    }
   }
  },
  {
   "cell_type": "markdown",
   "source": [
    "Fill the dictionary, one result file at a time.\n",
    "A file contains the result of SCDCdm on all 20 generated datasets with identical parameters\n",
    "(see *data_generation* for more details)"
   ],
   "metadata": {
    "collapsed": false,
    "pycharm": {
     "name": "#%% md\n"
    }
   }
  },
  {
   "cell_type": "code",
   "execution_count": 4,
   "outputs": [],
   "source": [
    "def apply_thresholds_to_results(files, thresholds):\n",
    "    threshold_dict = {}\n",
    "    for t in thresholds:\n",
    "        threshold_dict[t] = pd.DataFrame(columns=sim_columns + [\"threshold\", \"tp\", \"tn\", \"fp\", \"fn\"])\n",
    "    i = 1\n",
    "    \n",
    "    # Iterate Over all files\n",
    "    for file in files:\n",
    "        if i%10 == 0:\n",
    "            print(f\"file {i}/{len(files)}\")\n",
    "        \n",
    "        # open file\n",
    "        with open(save_path + file, \"rb\") as f:\n",
    "            d = pkl.load(f)\n",
    "        \n",
    "        # For each threshold\n",
    "        for t in thresholds:\n",
    "            \n",
    "            # Prepare df to append to threshold_dict entry\n",
    "            out_df = d[\"results\"].loc[:, sim_columns]\n",
    "            out_df[\"threshold\"] = t\n",
    "            \n",
    "            tp_list = []\n",
    "            tn_list = []\n",
    "            fp_list = []\n",
    "            fn_list = []\n",
    "            \n",
    "            # Iterate over all datasets in file\n",
    "            for eff in d[\"effects\"]:\n",
    "                \n",
    "                # no. of cell types\n",
    "                K = eff.shape[0]\n",
    "                ks = list(range(K))[1:]\n",
    "                \n",
    "                # calculate significances\n",
    "                is_significant = recalculate_inc_prob(eff[\"Inclusion probability\"], t)\n",
    "                \n",
    "                # Get tp, tn, fp, fn (Truth: Only first cell type significant)\n",
    "                tp = sum([is_significant[0] == True])\n",
    "                tp_list.append(tp)\n",
    "                fn = sum([is_significant[0] == False])\n",
    "                fn_list.append(fn)\n",
    "                tn = sum([is_significant[k] == False for k in ks])\n",
    "                tn_list.append(tn)\n",
    "                fp = sum([is_significant[k] == True for k in ks])\n",
    "                fp_list.append(fp)\n",
    "                \n",
    "            # add tp, tn, fp, fn to output df\n",
    "            out_df[\"tp\"] = tp_list\n",
    "            out_df[\"tn\"] = tn_list\n",
    "            out_df[\"fp\"] = fp_list\n",
    "            out_df[\"fn\"] = fn_list\n",
    "            \n",
    "            # append to threshold_dict entry\n",
    "            threshold_dict[t] = threshold_dict[t].append(out_df, ignore_index=True)\n",
    "            \n",
    "        i += 1\n",
    "      \n",
    "    \n",
    "    # Get scores (mcc, ...) for all thresholds\n",
    "    for k,v in threshold_dict.items():\n",
    "        if (k * 10) % 10 ==0:\n",
    "            print(f\"get scores: {k}\")\n",
    "        threshold_dict[k] = util.get_scores(v)\n",
    "        \n",
    "    return threshold_dict"
   ],
   "metadata": {
    "collapsed": false,
    "pycharm": {
     "name": "#%%\n",
     "is_executing": false
    }
   }
  },
  {
   "cell_type": "code",
   "execution_count": null,
   "outputs": [
    {
     "name": "stdout",
     "text": [
      "file 10/420\n",
      "file 20/420\n",
      "file 30/420\n",
      "file 40/420\n",
      "file 50/420\n",
      "file 60/420\n",
      "file 70/420\n",
      "file 80/420\n",
      "file 90/420\n",
      "file 100/420\n",
      "file 110/420\n",
      "file 120/420\n",
      "file 130/420\n",
      "file 140/420\n",
      "file 150/420\n",
      "file 160/420\n",
      "file 170/420\n",
      "file 180/420\n",
      "file 190/420\n",
      "file 200/420\n",
      "file 210/420\n",
      "file 220/420\n",
      "file 230/420\n",
      "file 240/420\n",
      "file 250/420\n",
      "file 260/420\n",
      "file 270/420\n",
      "file 280/420\n",
      "file 290/420\n",
      "file 300/420\n",
      "file 310/420\n",
      "file 320/420\n",
      "file 330/420\n"
     ],
     "output_type": "stream"
    }
   ],
   "source": [
    "threshold_dict = apply_thresholds_to_results(files, thresholds)\n",
    "\n",
    "# Just an example\n",
    "print(threshold_dict[0.3])  "
   ],
   "metadata": {
    "collapsed": false,
    "pycharm": {
     "name": "#%%\n",
     "is_executing": true
    }
   }
  },
  {
   "cell_type": "code",
   "execution_count": null,
   "outputs": [],
   "source": [
    "# Join all thresholds into one DataFrame\n",
    "total_df = pd.concat(threshold_dict.values(), ignore_index=True)\n",
    "print(total_df)"
   ],
   "metadata": {
    "collapsed": false,
    "pycharm": {
     "name": "#%%\n",
     "is_executing": true
    }
   }
  },
  {
   "cell_type": "code",
   "execution_count": 39,
   "outputs": [
    {
     "traceback": [
      "\u001b[1;31m---------------------------------------------------------------------------\u001b[0m",
      "\u001b[1;31mNameError\u001b[0m                                 Traceback (most recent call last)",
      "\u001b[1;32m<ipython-input-39-4db269090849>\u001b[0m in \u001b[0;36m<module>\u001b[1;34m\u001b[0m\n\u001b[1;32m----> 1\u001b[1;33m \u001b[1;32mdel\u001b[0m\u001b[1;33m(\u001b[0m\u001b[0mthreshold_dict\u001b[0m\u001b[1;33m)\u001b[0m\u001b[1;33m\u001b[0m\u001b[1;33m\u001b[0m\u001b[0m\n\u001b[0m\u001b[0;32m      2\u001b[0m \u001b[1;33m\u001b[0m\u001b[0m\n",
      "\u001b[1;31mNameError\u001b[0m: name 'threshold_dict' is not defined"
     ],
     "ename": "NameError",
     "evalue": "name 'threshold_dict' is not defined",
     "output_type": "error"
    }
   ],
   "source": [
    "del(threshold_dict)"
   ],
   "metadata": {
    "collapsed": false,
    "pycharm": {
     "name": "#%%\n",
     "is_executing": false
    }
   }
  },
  {
   "cell_type": "markdown",
   "source": [
    "Plotting...\n",
    "\n",
    "It is immediately apparent that the optimal threshold (in terms of MCC) depends on the number of cell types.\n",
    "The blue line showes the optimal threshold function (determination see below)"
   ],
   "metadata": {
    "collapsed": false,
    "pycharm": {
     "name": "#%% md\n"
    }
   }
  },
  {
   "cell_type": "code",
   "execution_count": 46,
   "outputs": [
    {
     "data": {
      "text/plain": "<Figure size 432x288 with 2 Axes>",
      "image/png": "[encoded data removed]"
     },
     "metadata": {
      "needs_background": "light"
     },
     "output_type": "display_data"
    }
   ],
   "source": [
    "plot_df_mcc = total_df.groupby([\"n_cell_types\", \"threshold\"]).agg({\"mcc\": \"mean\"}).unstack(level=0)\n",
    "plot_df_mcc.columns = plot_df_mcc.columns.droplevel(0)\n",
    "\n",
    "ax = sns.heatmap(data=plot_df_mcc, vmin=-1, vmax=1)\n",
    "ax.invert_yaxis()\n",
    "\n",
    "xs = [x+2 for x in range(14)]\n",
    "ys = 1 - (0.89/np.sqrt(xs))\n",
    "\n",
    "plt.plot([x+0.5 for x in range(14)], ys*99)\n",
    "\n",
    "plt.xlabel(\"# of cell types\")\n",
    "plt.title(\"Matthews correlation coefficient\")\n",
    "\n",
    "plt.show()"
   ],
   "metadata": {
    "collapsed": false,
    "pycharm": {
     "name": "#%%\n",
     "is_executing": false
    }
   }
  },
  {
   "cell_type": "markdown",
   "source": [
    "True positive rate: The higher the threshold, the less likely we are to capture the effect on the first cell type correctly"
   ],
   "metadata": {
    "collapsed": false
   }
  },
  {
   "cell_type": "code",
   "execution_count": 21,
   "outputs": [
    {
     "data": {
      "text/plain": "<Figure size 432x288 with 2 Axes>",
      "image/png": "[encoded data removed]"
     },
     "metadata": {
      "needs_background": "light"
     },
     "output_type": "display_data"
    }
   ],
   "source": [
    "plot_df_tpr = total_df.groupby([\"n_cell_types\", \"threshold\"]).agg({\"tpr\": \"mean\"}).unstack(level=0)\n",
    "plot_df_tpr.columns = plot_df_tpr.columns.droplevel(0)\n",
    "\n",
    "ax = sns.heatmap(data=plot_df_tpr, vmin=0, vmax=1)\n",
    "ax.invert_yaxis()\n",
    "\n",
    "plt.xlabel(\"# of cell types\")\n",
    "plt.title(\"True positive rate\")\n",
    "\n",
    "plt.show()"
   ],
   "metadata": {
    "collapsed": false,
    "pycharm": {
     "name": "#%%\n",
     "is_executing": false
    }
   }
  },
  {
   "cell_type": "markdown",
   "source": [
    "True negative rate: The lower the threshold, the more likely we are to falsely assess an effect on one of the other cell types (2...K)\n",
    "\n",
    "K=2 is an edge case, since we set the baseline to the only cell type without an effect, therefore gaining perfect TNR"
   ],
   "metadata": {
    "collapsed": false
   }
  },
  {
   "cell_type": "code",
   "execution_count": 22,
   "outputs": [
    {
     "data": {
      "text/plain": "<Figure size 432x288 with 2 Axes>",
      "image/png": "[encoded data removed]"
     },
     "metadata": {
      "needs_background": "light"
     },
     "output_type": "display_data"
    }
   ],
   "source": [
    "plot_df_tnr = total_df.groupby([\"n_cell_types\", \"threshold\"]).agg({\"tnr\": \"mean\"}).unstack(level=0)\n",
    "plot_df_tnr.columns = plot_df_tnr.columns.droplevel(0)\n",
    "\n",
    "ax = sns.heatmap(data=plot_df_tnr, vmin=0, vmax=1)\n",
    "ax.invert_yaxis()\n",
    "\n",
    "plt.xlabel(\"# of cell types\")\n",
    "plt.title(\"True negative rate\")\n",
    "\n",
    "plt.show()"
   ],
   "metadata": {
    "collapsed": false,
    "pycharm": {
     "name": "#%%\n",
     "is_executing": false
    }
   }
  },
  {
   "cell_type": "markdown",
   "source": [
    "Now determine the optimal threshold function. We suppose that the function has to be of the form $$t = 1-(c/\\sqrt{K})$$.\n",
    "\n",
    "To find the optimal value for c, we calculate the average MCC for every combination of threshold and K from our benchmark data.\n",
    "For every c in $$ \\{ 0.8, 0.81, \\ldots 1.3 \\} $$, we determine the threshold t from the function above.\n",
    "We then get the expected MCC by interpolating our benchmark results for t. \n",
    "Finally, we determine the optimal c by comparing the sum of squared MCCs (over all K)."
   ],
   "metadata": {
    "collapsed": false,
    "pycharm": {
     "name": "#%% md\n"
    }
   }
  },
  {
   "cell_type": "code",
   "execution_count": 61,
   "outputs": [],
   "source": [
    "# Grouping of results and interpolaion function\n",
    "int_df = total_df.groupby([\"n_cell_types\", \"threshold\"]).agg({\"mcc\": \"mean\"})\n",
    "\n",
    "def interpolate_score(thresh, k, int_df):\n",
    "    col = int_df.columns\n",
    "    residual = (thresh%0.05)\n",
    "    print(residual)\n",
    "    low_005 = np.round(thresh - residual, 2)\n",
    "    \n",
    "    low_score = pd.Series(int_df.loc[(k, low_005), col])\n",
    "    high_score = pd.Series(int_df.loc[(k, np.round(low_005 + 0.05, 2)), col])\n",
    "    print(high_score[:, col] - low_score[:, col])\n",
    "    \n",
    "    miss = (high_score - low_score) * (residual/0.05)\n",
    "    return np.mean((low_score + miss).values[0])"
   ],
   "metadata": {
    "collapsed": false,
    "pycharm": {
     "name": "#%%\n",
     "is_executing": false
    }
   }
  },
  {
   "cell_type": "code",
   "execution_count": 12,
   "outputs": [
    {
     "name": "stdout",
     "text": [
      "[5.920364272541862, 5.94455270315586, 5.968801482614278, 5.993037928368255, 6.016543821969279, 6.040057825977338, 6.062979003423546, 6.084817777882263, 6.106514501039172, 6.128260451818424, 6.149957217866675, 6.172266778851421, 6.194634314547956, 6.216118183535719, 6.237663281855191, 6.259205789040731, 6.277280799822199, 6.294541906348459, 6.311448852128662, 6.3267650090711935, 6.342626621626243, 6.354915040923122, 6.365731411190829, 6.376578274593937, 6.387406169119676, 6.397665618442721, 6.405728698282824, 6.413755978983697, 6.421766876176785, 6.429375661459267, 6.436914273687698, 6.444047896410611, 6.451097603945598, 6.455962250261327, 6.458735001944238, 6.4613601948764705, 6.463999218187799, 6.465364162523434, 6.466576777190851, 6.467802810367157, 6.4664533205405474, 6.464574208153573, 6.458178999326409, 6.449973163094866, 6.440740241114023, 6.431577240478104, 6.422484161187108, 6.410741115388313, 6.396643661337025, 6.382334910330622]\n"
     ],
     "output_type": "stream"
    }
   ],
   "source": [
    "# Do interpolation and make sum of squares\n",
    "cs = np.round(np.arange(0.8, 1.3, 0.01), 2)\n",
    "ks = [x+2 for x in range(14)]\n",
    "\n",
    "ssq_mccs = []\n",
    "\n",
    "for c in cs:\n",
    "    ys = 1 - (c/np.sqrt(ks))\n",
    "    mccs = []\n",
    "    for i in range(14):\n",
    "        mccs.append(interpolate_score(ys[i], ks[i], int_df))\n",
    "    \n",
    "    ssq = np.sum([m**2 for m in mccs])\n",
    "    ssq_mccs.append(ssq)\n",
    "    \n",
    "print(ssq_mccs)"
   ],
   "metadata": {
    "collapsed": false,
    "pycharm": {
     "name": "#%%\n",
     "is_executing": false
    }
   }
  },
  {
   "cell_type": "code",
   "execution_count": 48,
   "outputs": [
    {
     "name": "stdout",
     "text": [
      "{2: 0.01, 3: 0.42, 4: 0.52, 5: 0.56, 6: 0.61, 7: 0.69, 8: 0.69, 9: 0.73, 10: 0.77, 11: 0.78, 12: 0.77, 13: 0.79, 14: 0.8, 15: 0.8}\n",
      "{2: 0.01, 3: 0.43, 4: 0.49, 5: 0.5, 6: 0.61, 7: 0.55, 8: 0.57, 9: 0.56, 10: 0.62, 11: 0.64, 12: 0.61, 13: 0.62, 14: 0.65, 15: 0.66}\n"
     ],
     "output_type": "stream"
    },
    {
     "data": {
      "text/plain": "<Figure size 432x288 with 1 Axes>",
      "image/png": "[encoded data removed]"
     },
     "metadata": {
      "needs_background": "light"
     },
     "output_type": "display_data"
    }
   ],
   "source": [
    "# new approach: Stay at fdr ~10%\n",
    "\n",
    "grouped_df = total_df.groupby([\"n_cell_types\", \"threshold\"]).agg({\"fdr\": \"mean\", \"mcc\": \"mean\"}).reset_index()\n",
    "ks = [x+2 for x in range(14)]\n",
    "\n",
    "threshs_fdr = {}\n",
    "threshs_mcc = {}\n",
    "\n",
    "for k in ks:\n",
    "    smaller_df = grouped_df.loc[(grouped_df[\"n_cell_types\"]==k) & (grouped_df[\"fdr\"]<0.1), :]\n",
    "    thresh = np.min(smaller_df[\"threshold\"])\n",
    "    threshs_fdr[k] = thresh\n",
    "    \n",
    "    max_mcc = np.max(grouped_df.loc[grouped_df[\"n_cell_types\"]==k, \"mcc\"])\n",
    "    threshs_mcc[k] = np.min(grouped_df.loc[(grouped_df[\"n_cell_types\"]==k) & (grouped_df[\"mcc\"]==max_mcc), \"threshold\"])\n",
    "    \n",
    "print(threshs_fdr)\n",
    "print(threshs_mcc)"
   ],
   "metadata": {
    "collapsed": false,
    "pycharm": {
     "name": "#%%\n",
     "is_executing": false
    }
   }
  },
  {
   "cell_type": "code",
   "execution_count": 62,
   "outputs": [
    {
     "data": {
      "text/plain": "<Figure size 432x288 with 1 Axes>",
      "image/png": "[encoded data removed]"
     },
     "metadata": {
      "needs_background": "light"
     },
     "output_type": "display_data"
    }
   ],
   "source": [
    "plt.plot(threshs_fdr.keys(), threshs_fdr.values())\n",
    "plt.plot(threshs_mcc.keys(), threshs_mcc.values())\n",
    "plt.plot(ks, [0.9-0.63/np.sqrt(k) for k in ks])\n",
    "plt.plot(ks, [1-0.89/np.sqrt(k) for k in ks])\n",
    "plt.plot(ks, [1.2-1.41/np.sqrt(k) for k in ks])\n",
    "plt.plot(ks, [1.1-1.15/np.sqrt(k) for k in ks])\n",
    "\n",
    "plt.xlabel(\"# of cell types\")\n",
    "plt.ylabel(\"threshold\")\n",
    "\n",
    "plt.show()"
   ],
   "metadata": {
    "collapsed": false,
    "pycharm": {
     "name": "#%%\n",
     "is_executing": false
    }
   }
  },
  {
   "cell_type": "code",
   "execution_count": 59,
   "outputs": [
    {
     "name": "stdout",
     "text": [
      "1.15\n",
      "1.39\n"
     ],
     "output_type": "stream"
    }
   ],
   "source": [
    "# Leave out K=2 (edge case)\n",
    "cs = np.round(np.arange(0.5, 1.5, 0.01), 2)\n",
    "\n",
    "ssq_fdr = {}\n",
    "ssq_mcc = {}\n",
    "\n",
    "for c in cs:\n",
    "    thresh_prop = np.array([1.1-c/np.sqrt(k) for k in ks[1:]])\n",
    "    \n",
    "    diffs_fdr = thresh_prop - np.fromiter(threshs_fdr.values(), dtype=float)[1:]\n",
    "    ssq_fdr[c] = np.sum(diffs_fdr**2) \n",
    "    \n",
    "    diffs_mcc = thresh_prop - np.fromiter(threshs_mcc.values(), dtype=float)[1:]\n",
    "    ssq_mcc[c] = np.sum(diffs_mcc**2) \n",
    "\n",
    "min_fdr = min(ssq_fdr, key=ssq_fdr.get)\n",
    "min_mcc = min(ssq_mcc, key=ssq_mcc.get)\n",
    "\n",
    "print(min_fdr)\n",
    "print(min_mcc)\n"
   ],
   "metadata": {
    "collapsed": false,
    "pycharm": {
     "name": "#%%\n",
     "is_executing": false
    }
   }
  },
  {
   "cell_type": "markdown",
   "source": [
    "Optimal threshold: $$ c=1.19 $$"
   ],
   "metadata": {
    "collapsed": false,
    "pycharm": {
     "name": "#%% md\n"
    }
   }
  },
  {
   "cell_type": "code",
   "execution_count": 13,
   "outputs": [
    {
     "name": "stdout",
     "text": [
      "1.19\n"
     ],
     "output_type": "stream"
    }
   ],
   "source": [
    "# Get maximum\n",
    "max_c = cs[ssq_mccs.index(np.max(ssq_mccs))]\n",
    "print(max_c)"
   ],
   "metadata": {
    "collapsed": false,
    "pycharm": {
     "name": "#%%\n",
     "is_executing": false
    }
   }
  },
  {
   "cell_type": "markdown",
   "source": [
    "Plot for supplement"
   ],
   "metadata": {
    "collapsed": false,
    "pycharm": {
     "name": "#%% md\n"
    }
   }
  },
  {
   "cell_type": "code",
   "execution_count": 14,
   "outputs": [
    {
     "data": {
      "text/plain": "<Figure size 432x288 with 1 Axes>",
      "image/png": "[encoded data removed]"
     },
     "metadata": {
      "needs_background": "light"
     },
     "output_type": "display_data"
    }
   ],
   "source": [
    "plt.plot(cs, ssq_mccs, color=\"orange\")\n",
    "plt.axvline(1.19, color=\"black\")\n",
    "plt.text(x=1.12, y=6.1, s=\"c=1.19\")\n",
    "plt.xlabel(\"c\")\n",
    "plt.ylabel(\"SSQ mcc\")\n",
    "plt.show()"
   ],
   "metadata": {
    "collapsed": false,
    "pycharm": {
     "name": "#%%\n",
     "is_executing": false
    }
   }
  },
  {
   "cell_type": "markdown",
   "source": [
    "Lets see, if our threshold gives a constant false discovery rate:\n",
    "    \n",
    "The heatmap gives not much info, but interpolating the fdr for every K"
   ],
   "metadata": {
    "collapsed": false,
    "pycharm": {
     "name": "#%% md\n"
    }
   }
  },
  {
   "cell_type": "code",
   "execution_count": 47,
   "outputs": [
    {
     "data": {
      "text/plain": "<Figure size 432x288 with 2 Axes>",
      "image/png": "[encoded data removed]"
     },
     "metadata": {
      "needs_background": "light"
     },
     "output_type": "display_data"
    }
   ],
   "source": [
    "plot_df_fdr = total_df.groupby([\"n_cell_types\", \"threshold\"]).agg({\"fdr\": \"mean\"}).unstack(level=0)\n",
    "plot_df_fdr.columns = plot_df_fdr.columns.droplevel(0)\n",
    "\n",
    "ax = sns.heatmap(data=plot_df_fdr, vmin=0, vmax=1)\n",
    "ax.invert_yaxis()\n",
    "\n",
    "xs = [x+2 for x in range(14)]\n",
    "ys = 1 - (0.89/np.sqrt(xs))\n",
    "plt.plot([x+0.5 for x in range(14)], ys*99)\n",
    "\n",
    "plt.xlabel(\"# of cell types\")\n",
    "plt.title(\"False discovery rate\")\n",
    "\n",
    "plt.show()"
   ],
   "metadata": {
    "collapsed": false,
    "pycharm": {
     "name": "#%%\n",
     "is_executing": false
    }
   }
  },
  {
   "cell_type": "code",
   "execution_count": 62,
   "outputs": [
    {
     "name": "stdout",
     "text": [
      "0.042893218813452524\n"
     ],
     "output_type": "stream"
    },
    {
     "traceback": [
      "\u001b[1;31m---------------------------------------------------------------------------\u001b[0m",
      "\u001b[1;31mValueError\u001b[0m                                Traceback (most recent call last)",
      "\u001b[1;32m<ipython-input-62-77d3035c9019>\u001b[0m in \u001b[0;36m<module>\u001b[1;34m\u001b[0m\n\u001b[0;32m      7\u001b[0m \u001b[0mfdrs\u001b[0m \u001b[1;33m=\u001b[0m \u001b[1;33m[\u001b[0m\u001b[1;33m]\u001b[0m\u001b[1;33m\u001b[0m\u001b[1;33m\u001b[0m\u001b[0m\n\u001b[0;32m      8\u001b[0m \u001b[1;32mfor\u001b[0m \u001b[0mi\u001b[0m \u001b[1;32min\u001b[0m \u001b[0mrange\u001b[0m\u001b[1;33m(\u001b[0m\u001b[1;36m1\u001b[0m\u001b[1;33m)\u001b[0m\u001b[1;33m:\u001b[0m\u001b[1;33m\u001b[0m\u001b[1;33m\u001b[0m\u001b[0m\n\u001b[1;32m----> 9\u001b[1;33m     \u001b[0ms\u001b[0m \u001b[1;33m=\u001b[0m \u001b[0minterpolate_score\u001b[0m\u001b[1;33m(\u001b[0m\u001b[0mys\u001b[0m\u001b[1;33m[\u001b[0m\u001b[0mi\u001b[0m\u001b[1;33m]\u001b[0m\u001b[1;33m,\u001b[0m \u001b[0mks\u001b[0m\u001b[1;33m[\u001b[0m\u001b[0mi\u001b[0m\u001b[1;33m]\u001b[0m\u001b[1;33m,\u001b[0m \u001b[0mfdr_df\u001b[0m\u001b[1;33m)\u001b[0m\u001b[1;33m\u001b[0m\u001b[1;33m\u001b[0m\u001b[0m\n\u001b[0m\u001b[0;32m     10\u001b[0m     \u001b[0mprint\u001b[0m\u001b[1;33m(\u001b[0m\u001b[0ms\u001b[0m\u001b[1;33m)\u001b[0m\u001b[1;33m\u001b[0m\u001b[1;33m\u001b[0m\u001b[0m\n\u001b[0;32m     11\u001b[0m     \u001b[0mfdrs\u001b[0m\u001b[1;33m.\u001b[0m\u001b[0mappend\u001b[0m\u001b[1;33m(\u001b[0m\u001b[0ms\u001b[0m\u001b[1;33m)\u001b[0m\u001b[1;33m\u001b[0m\u001b[1;33m\u001b[0m\u001b[0m\n",
      "\u001b[1;32m<ipython-input-61-9c60c2f5382a>\u001b[0m in \u001b[0;36minterpolate_score\u001b[1;34m(thresh, k, int_df)\u001b[0m\n\u001b[0;32m      8\u001b[0m     \u001b[0mlow_005\u001b[0m \u001b[1;33m=\u001b[0m \u001b[0mnp\u001b[0m\u001b[1;33m.\u001b[0m\u001b[0mround\u001b[0m\u001b[1;33m(\u001b[0m\u001b[0mthresh\u001b[0m \u001b[1;33m-\u001b[0m \u001b[0mresidual\u001b[0m\u001b[1;33m,\u001b[0m \u001b[1;36m2\u001b[0m\u001b[1;33m)\u001b[0m\u001b[1;33m\u001b[0m\u001b[1;33m\u001b[0m\u001b[0m\n\u001b[0;32m      9\u001b[0m \u001b[1;33m\u001b[0m\u001b[0m\n\u001b[1;32m---> 10\u001b[1;33m     \u001b[0mlow_score\u001b[0m \u001b[1;33m=\u001b[0m \u001b[0mpd\u001b[0m\u001b[1;33m.\u001b[0m\u001b[0mSeries\u001b[0m\u001b[1;33m(\u001b[0m\u001b[0mint_df\u001b[0m\u001b[1;33m.\u001b[0m\u001b[0mloc\u001b[0m\u001b[1;33m[\u001b[0m\u001b[1;33m(\u001b[0m\u001b[0mk\u001b[0m\u001b[1;33m,\u001b[0m \u001b[0mlow_005\u001b[0m\u001b[1;33m)\u001b[0m\u001b[1;33m,\u001b[0m \u001b[0mcol\u001b[0m\u001b[1;33m]\u001b[0m\u001b[1;33m)\u001b[0m\u001b[1;33m\u001b[0m\u001b[1;33m\u001b[0m\u001b[0m\n\u001b[0m\u001b[0;32m     11\u001b[0m     \u001b[0mhigh_score\u001b[0m \u001b[1;33m=\u001b[0m \u001b[0mpd\u001b[0m\u001b[1;33m.\u001b[0m\u001b[0mSeries\u001b[0m\u001b[1;33m(\u001b[0m\u001b[0mint_df\u001b[0m\u001b[1;33m.\u001b[0m\u001b[0mloc\u001b[0m\u001b[1;33m[\u001b[0m\u001b[1;33m(\u001b[0m\u001b[0mk\u001b[0m\u001b[1;33m,\u001b[0m \u001b[0mnp\u001b[0m\u001b[1;33m.\u001b[0m\u001b[0mround\u001b[0m\u001b[1;33m(\u001b[0m\u001b[0mlow_005\u001b[0m \u001b[1;33m+\u001b[0m \u001b[1;36m0.05\u001b[0m\u001b[1;33m,\u001b[0m \u001b[1;36m2\u001b[0m\u001b[1;33m)\u001b[0m\u001b[1;33m)\u001b[0m\u001b[1;33m,\u001b[0m \u001b[0mcol\u001b[0m\u001b[1;33m]\u001b[0m\u001b[1;33m)\u001b[0m\u001b[1;33m\u001b[0m\u001b[1;33m\u001b[0m\u001b[0m\n\u001b[0;32m     12\u001b[0m     \u001b[0mprint\u001b[0m\u001b[1;33m(\u001b[0m\u001b[0mhigh_score\u001b[0m\u001b[1;33m[\u001b[0m\u001b[1;33m:\u001b[0m\u001b[1;33m,\u001b[0m \u001b[0mcol\u001b[0m\u001b[1;33m]\u001b[0m \u001b[1;33m-\u001b[0m \u001b[0mlow_score\u001b[0m\u001b[1;33m[\u001b[0m\u001b[1;33m:\u001b[0m\u001b[1;33m,\u001b[0m \u001b[0mcol\u001b[0m\u001b[1;33m]\u001b[0m\u001b[1;33m)\u001b[0m\u001b[1;33m\u001b[0m\u001b[1;33m\u001b[0m\u001b[0m\n",
      "\u001b[1;32m~\\Anaconda3\\envs\\Helmholtz\\lib\\site-packages\\pandas\\core\\series.py\u001b[0m in \u001b[0;36m__init__\u001b[1;34m(self, data, index, dtype, name, copy, fastpath)\u001b[0m\n\u001b[0;32m    229\u001b[0m             \u001b[0mname\u001b[0m \u001b[1;33m=\u001b[0m \u001b[0mibase\u001b[0m\u001b[1;33m.\u001b[0m\u001b[0mmaybe_extract_name\u001b[0m\u001b[1;33m(\u001b[0m\u001b[0mname\u001b[0m\u001b[1;33m,\u001b[0m \u001b[0mdata\u001b[0m\u001b[1;33m,\u001b[0m \u001b[0mtype\u001b[0m\u001b[1;33m(\u001b[0m\u001b[0mself\u001b[0m\u001b[1;33m)\u001b[0m\u001b[1;33m)\u001b[0m\u001b[1;33m\u001b[0m\u001b[1;33m\u001b[0m\u001b[0m\n\u001b[0;32m    230\u001b[0m \u001b[1;33m\u001b[0m\u001b[0m\n\u001b[1;32m--> 231\u001b[1;33m             \u001b[1;32mif\u001b[0m \u001b[0mis_empty_data\u001b[0m\u001b[1;33m(\u001b[0m\u001b[0mdata\u001b[0m\u001b[1;33m)\u001b[0m \u001b[1;32mand\u001b[0m \u001b[0mdtype\u001b[0m \u001b[1;32mis\u001b[0m \u001b[1;32mNone\u001b[0m\u001b[1;33m:\u001b[0m\u001b[1;33m\u001b[0m\u001b[1;33m\u001b[0m\u001b[0m\n\u001b[0m\u001b[0;32m    232\u001b[0m                 \u001b[1;31m# gh-17261\u001b[0m\u001b[1;33m\u001b[0m\u001b[1;33m\u001b[0m\u001b[1;33m\u001b[0m\u001b[0m\n\u001b[0;32m    233\u001b[0m                 warnings.warn(\n",
      "\u001b[1;32m~\\Anaconda3\\envs\\Helmholtz\\lib\\site-packages\\pandas\\core\\construction.py\u001b[0m in \u001b[0;36mis_empty_data\u001b[1;34m(data)\u001b[0m\n\u001b[0;32m    594\u001b[0m     \u001b[0mis_none\u001b[0m \u001b[1;33m=\u001b[0m \u001b[0mdata\u001b[0m \u001b[1;32mis\u001b[0m \u001b[1;32mNone\u001b[0m\u001b[1;33m\u001b[0m\u001b[1;33m\u001b[0m\u001b[0m\n\u001b[0;32m    595\u001b[0m     \u001b[0mis_list_like_without_dtype\u001b[0m \u001b[1;33m=\u001b[0m \u001b[0mis_list_like\u001b[0m\u001b[1;33m(\u001b[0m\u001b[0mdata\u001b[0m\u001b[1;33m)\u001b[0m \u001b[1;32mand\u001b[0m \u001b[1;32mnot\u001b[0m \u001b[0mhasattr\u001b[0m\u001b[1;33m(\u001b[0m\u001b[0mdata\u001b[0m\u001b[1;33m,\u001b[0m \u001b[1;34m\"dtype\"\u001b[0m\u001b[1;33m)\u001b[0m\u001b[1;33m\u001b[0m\u001b[1;33m\u001b[0m\u001b[0m\n\u001b[1;32m--> 596\u001b[1;33m     \u001b[0mis_simple_empty\u001b[0m \u001b[1;33m=\u001b[0m \u001b[0mis_list_like_without_dtype\u001b[0m \u001b[1;32mand\u001b[0m \u001b[1;32mnot\u001b[0m \u001b[0mdata\u001b[0m\u001b[1;33m\u001b[0m\u001b[1;33m\u001b[0m\u001b[0m\n\u001b[0m\u001b[0;32m    597\u001b[0m     \u001b[1;32mreturn\u001b[0m \u001b[0mis_none\u001b[0m \u001b[1;32mor\u001b[0m \u001b[0mis_simple_empty\u001b[0m\u001b[1;33m\u001b[0m\u001b[1;33m\u001b[0m\u001b[0m\n\u001b[0;32m    598\u001b[0m \u001b[1;33m\u001b[0m\u001b[0m\n",
      "\u001b[1;32m~\\Anaconda3\\envs\\Helmholtz\\lib\\site-packages\\pandas\\core\\generic.py\u001b[0m in \u001b[0;36m__nonzero__\u001b[1;34m(self)\u001b[0m\n\u001b[0;32m   1325\u001b[0m     \u001b[1;32mdef\u001b[0m \u001b[0m__nonzero__\u001b[0m\u001b[1;33m(\u001b[0m\u001b[0mself\u001b[0m\u001b[1;33m)\u001b[0m\u001b[1;33m:\u001b[0m\u001b[1;33m\u001b[0m\u001b[1;33m\u001b[0m\u001b[0m\n\u001b[0;32m   1326\u001b[0m         raise ValueError(\n\u001b[1;32m-> 1327\u001b[1;33m             \u001b[1;34mf\"The truth value of a {type(self).__name__} is ambiguous. \"\u001b[0m\u001b[1;33m\u001b[0m\u001b[1;33m\u001b[0m\u001b[0m\n\u001b[0m\u001b[0;32m   1328\u001b[0m             \u001b[1;34m\"Use a.empty, a.bool(), a.item(), a.any() or a.all().\"\u001b[0m\u001b[1;33m\u001b[0m\u001b[1;33m\u001b[0m\u001b[0m\n\u001b[0;32m   1329\u001b[0m         )\n",
      "\u001b[1;31mValueError\u001b[0m: The truth value of a DataFrame is ambiguous. Use a.empty, a.bool(), a.item(), a.any() or a.all()."
     ],
     "ename": "ValueError",
     "evalue": "The truth value of a DataFrame is ambiguous. Use a.empty, a.bool(), a.item(), a.any() or a.all().",
     "output_type": "error"
    }
   ],
   "source": [
    "fdr_df = total_df.loc[:, [\"n_cell_types\", \"threshold\", \"fdr\"]].set_index([\"n_cell_types\", \"threshold\"])\n",
    "\n",
    "ks = [x+2 for x in range(14)]\n",
    "\n",
    "ys = 1 - (1/np.sqrt(ks))\n",
    "# ys = [0.5 for x in range(14)]\n",
    "fdrs = []\n",
    "for i in range(1):\n",
    "    s = interpolate_score(ys[i], ks[i], fdr_df)\n",
    "    print(s)\n",
    "    fdrs.append(s)"
   ],
   "metadata": {
    "collapsed": false,
    "pycharm": {
     "name": "#%%\n",
     "is_executing": false
    }
   }
  },
  {
   "cell_type": "code",
   "execution_count": null,
   "outputs": [],
   "source": [
    "print(fdrs)\n",
    "        \n",
    "plt.plot(ks, fdrs)\n",
    "plt.xlabel(\"# of cell types\")\n",
    "plt.ylabel(\"FDR\")\n",
    "plt.show()\n",
    "        "
   ],
   "metadata": {
    "collapsed": false,
    "pycharm": {
     "name": "#%%     \n"
    }
   }
  }
 ],
 "metadata": {
  "kernelspec": {
   "name": "pycharm-6bf36ab6",
   "language": "python",
   "display_name": "PyCharm (SCDCdm_public)"
  },
  "language_info": {
   "codemirror_mode": {
    "name": "ipython",
    "version": 2
   },
   "file_extension": ".py",
   "mimetype": "text/x-python",
   "name": "python",
   "nbconvert_exporter": "python",
   "pygments_lexer": "ipython2",
   "version": "2.7.6"
  },
  "pycharm": {
   "stem_cell": {
    "cell_type": "raw",
    "source": [],
    "metadata": {
     "collapsed": false
    }
   }
  }
 },
 "nbformat": 4,
 "nbformat_minor": 0
}