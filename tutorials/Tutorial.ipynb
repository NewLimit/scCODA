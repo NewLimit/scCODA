{
 "cells": [
  {
   "cell_type": "markdown",
   "metadata": {
    "collapsed": true,
    "pycharm": {
     "name": "#%% md\n"
    }
   },
   "source": [
    "# SCDCdm - Compositional analysis of single-cell data\n"
   ]
  },
  {
   "cell_type": "markdown",
   "metadata": {
    "pycharm": {
     "name": "#%% md\n"
    }
   },
   "source": [
    "\n",
    "This notebook serves as a tutorial for using the *SCDCdm* package to analyze changes in cell composition data.\n",
    "\n",
    "The package is intended to be used with data coming from single-cell RNA-seq experiments, however there are no \n",
    "restrictions that prevent the use of data from other sources.\n",
    "\n",
    "The data we use in the following example comes from [*Haber et al. [2017]*](https://www.nature.com/articles/nature24489).\n",
    "It contains samples from the small intestinal epithelium of mice with different conditions.\n"
   ]
  },
  {
   "cell_type": "code",
   "execution_count": 1,
   "metadata": {
    "pycharm": {
     "is_executing": false,
     "name": "#%%\n"
    }
   },
   "outputs": [],
   "source": [
    "# Setup\n",
    "import warnings\n",
    "warnings.filterwarnings(\"ignore\")\n",
    "\n",
    "import pandas as pd\n",
    "import matplotlib.pyplot as plt\n",
    "import seaborn as sns\n",
    "import arviz as az\n",
    "import pickle as pkl\n",
    "\n",
    "from scdcdm.util import comp_ana as mod\n",
    "from scdcdm.util import cell_composition_data as dat\n",
    "\n"
   ]
  },
  {
   "cell_type": "markdown",
   "metadata": {},
   "source": [
    "### Data preparation"
   ]
  },
  {
   "cell_type": "code",
   "execution_count": 2,
   "metadata": {
    "pycharm": {
     "is_executing": false,
     "name": "#%%\n"
    }
   },
   "outputs": [
    {
     "name": "stdout",
     "text": [
      "            Mouse  Endocrine  Enterocyte  Enterocyte.Progenitor  Goblet  Stem  \\\n",
      "0       Control_1         36          59                    136      36   239   \n",
      "1       Control_2          5          46                     23      20    50   \n",
      "2       Control_3         45          98                    188     124   250   \n",
      "3       Control_4         26         221                    198      36   131   \n",
      "4  H.poly.Day10_1         42          71                    203     147   271   \n",
      "5  H.poly.Day10_2         40          57                    383     170   321   \n",
      "6   H.poly.Day3_1         52          75                    347      66   323   \n",
      "7   H.poly.Day3_2         65         126                    115      33    65   \n",
      "8          Salm_1         37         332                    113      59    90   \n",
      "9          Salm_2         32         373                    116      67   117   \n",
      "\n",
      "    TA  TA.Early  Tuft  \n",
      "0  125       191    18  \n",
      "1   11        40     5  \n",
      "2  155       365    33  \n",
      "3  130       196     4  \n",
      "4  109       180   146  \n",
      "5  244       256    71  \n",
      "6  263       313    51  \n",
      "7   39       129    59  \n",
      "8   47       132    10  \n",
      "9   65       168    12  \n"
     ],
     "output_type": "stream"
    }
   ],
   "source": [
    "# Load data\n",
    "\n",
    "cell_counts = pd.read_csv(\"../data/haber_counts.csv\")\n",
    "\n",
    "print(cell_counts)"
   ]
  },
  {
   "cell_type": "markdown",
   "metadata": {},
   "source": [
    "Looking at the data, we see that we have 4 control samples, and 3 conditions with 2 samples each. \n",
    "To use the models in *SCDCdm*, we first have to convert the data into an [anndata](https://github.com/theislab/anndata) object.\n",
    "This object separates our data components: Cell counts are stored in `data.X`, covariates in `data.obs`.\n",
    "\n",
    "For our first example, we want to look at how the Salmonella infection influences the cell composition.\n",
    "\n"
   ]
  },
  {
   "cell_type": "code",
   "execution_count": 3,
   "metadata": {
    "pycharm": {
     "is_executing": false
    }
   },
   "outputs": [
    {
     "name": "stderr",
     "text": [
      "Transforming to str index.\n"
     ],
     "output_type": "stream"
    },
    {
     "name": "stdout",
     "text": [
      "[[ 36.  59. 136.  36. 239. 125. 191.  18.]\n",
      " [  5.  46.  23.  20.  50.  11.  40.   5.]\n",
      " [ 45.  98. 188. 124. 250. 155. 365.  33.]\n",
      " [ 26. 221. 198.  36. 131. 130. 196.   4.]\n",
      " [ 37. 332. 113.  59.  90.  47. 132.  10.]\n",
      " [ 32. 373. 116.  67. 117.  65. 168.  12.]]\n",
      "       Mouse Condition\n",
      "0  Control_1   Control\n",
      "1  Control_2   Control\n",
      "2  Control_3   Control\n",
      "3  Control_4   Control\n",
      "8     Salm_1      Salm\n",
      "9     Salm_2      Salm\n"
     ],
     "output_type": "stream"
    }
   ],
   "source": [
    "# Convert data to anndata object\n",
    "\n",
    "# Filter out control and salmonella data\n",
    "salm_indices = [0, 1, 2, 3, 8, 9]\n",
    "salm_df = cell_counts.iloc[salm_indices, :]\n",
    "\n",
    "# Convert to a CompositionalData object\n",
    "data_salm = dat.from_pandas(salm_df, covariate_columns=[\"Mouse\"])\n",
    "\n",
    "# Extract condition from mouse name and add it as an extra column to the covariates\n",
    "data_salm.obs[\"Condition\"] = data_salm.obs[\"Mouse\"].str.replace(r\"_[0-9]\", \"\")\n",
    "print(data_salm.X)\n",
    "print(data_salm.obs)"
   ]
  },
  {
   "cell_type": "markdown",
   "source": [
    "Plotting the data, we can see that there is a large increase of Enterocytes in the infected sampes, while most other cell types slightly decrease.\n",
    "Since scRNA-seq experiments are limited in the number of cells per sample, the count data is compositional, which leads to negative correlations between the cell types.\n",
    "Thus, the slight decreases in many cell types might be fully caused by the increase in Enterocytes."
   ],
   "metadata": {
    "collapsed": false,
    "pycharm": {
     "name": "#%% md\n"
    }
   }
  },
  {
   "cell_type": "code",
   "execution_count": 4,
   "outputs": [
    {
     "data": {
      "text/plain": "<Figure size 864x360 with 1 Axes>",
      "image/png": "[encoded data removed]"
     },
     "metadata": {
      "needs_background": "light"
     },
     "output_type": "display_data"
    }
   ],
   "source": [
    "fig, ax = plt.subplots(figsize=(12,5))\n",
    "df = pd.melt(salm_df, id_vars=['Mouse'], value_vars=salm_df.columns[1:])\n",
    "sns.set_context('notebook')\n",
    "sns.set_style('ticks')\n",
    "d = sns.barplot(x='variable', y = 'value', hue=df[\"Mouse\"].str.replace(r\"_[0-9]\", \"\"), data=df)\n",
    "d.set_ylabel('Cell Count')\n",
    "loc, labels = plt.xticks()\n",
    "d.set_xticklabels(labels, rotation=90)\n",
    "d.set_xlabel('Cell type')\n",
    "plt.show()"
   ],
   "metadata": {
    "collapsed": false,
    "pycharm": {
     "name": "#%%\n",
     "is_executing": false
    }
   }
  },
  {
   "cell_type": "markdown",
   "source": [
    "*Note that the use of* anndata *in* SCDCdm *is different from the use in scRNA-seq pipelines, e.g.* scanpy. \n",
    "*To convert* scanpy *objects to a SCDCdm dataset, have a look at `dat.from_scanpy_list`.*"
   ],
   "metadata": {
    "collapsed": false,
    "pycharm": {
     "name": "#%% md\n"
    }
   }
  },
  {
   "cell_type": "markdown",
   "metadata": {},
   "source": [
    "### Model setup and inference\n",
    "\n",
    "We can now create the model and run inference on it. The `mod.CompositionalAnalysis` class takes our data object and performs parameter inference on it.\n",
    "\n",
    "The `formula` parameter specifies how the covariates are used in the model. It can process R-style formulas via the [patsy](https://patsy.readthedocs.io/en/latest/) package, e.g. `formula=\"Cov1 + Cov2 + Cov3\"`.\n",
    "\n",
    "The `baseline_index` parameter is used to specify a cell type that is left unchanged by the covariates.\n",
    "This feature is optional, a baseline index of `None` specifies the model without baseline specification.\n",
    "For now, we will use no baseline index."
   ]
  },
  {
   "cell_type": "code",
   "execution_count": 5,
   "metadata": {
    "pycharm": {
     "is_executing": false
    }
   },
   "outputs": [],
   "source": [
    "model_salm = mod.CompositionalAnalysis(data_salm, formula=\"Condition\", baseline_index=None)"
   ]
  },
  {
   "cell_type": "markdown",
   "source": [
    "HMC sampling can be performed by calling `sample_hmc()` on the model, which produces a `scdcdm.util.result_classes.CAResult` object."
   ],
   "metadata": {
    "collapsed": false,
    "pycharm": {
     "name": "#%% md\n"
    }
   }
  },
  {
   "cell_type": "code",
   "execution_count": 6,
   "metadata": {
    "pycharm": {
     "is_executing": false
    }
   },
   "outputs": [
    {
     "name": "stdout",
     "text": [
      "MCMC sampling finished. (122.948 sec)\n",
      "Acceptance rate: 60.7%\n"
     ],
     "output_type": "stream"
    }
   ],
   "source": [
    "# Run MCMC\n",
    "sim_results = model_salm.sample_hmc()"
   ]
  },
  {
   "cell_type": "markdown",
   "source": [
    "### Result interpretation\n",
    "\n",
    "Calling `summary()` on the results object, we can see all relevant information for further analysis:"
   ],
   "metadata": {
    "collapsed": false,
    "pycharm": {
     "name": "#%% md\n"
    }
   }
  },
  {
   "cell_type": "code",
   "execution_count": 7,
   "outputs": [
    {
     "name": "stdout",
     "text": [
      "Compositional Analysis summary:\n",
      "\n",
      "Data: 6 samples, 8 cell types\n",
      "Baseline index: None\n",
      "Formula: Condition\n",
      "\n",
      "Intercepts:\n",
      "                       Final Parameter  Expected Sample\n",
      "Cell Type                                              \n",
      "Endocrine                        1.087        33.992407\n",
      "Enterocyte                       2.318       116.412180\n",
      "Enterocyte.Progenitor            2.516       141.902070\n",
      "Goblet                           1.664        60.529882\n",
      "Stem                             2.699       170.398050\n",
      "TA                               2.103        93.891247\n",
      "TA.Early                         2.860       200.164028\n",
      "Tuft                             0.435        17.710137\n",
      "\n",
      "\n",
      "Effects:\n",
      "                                         Final Parameter  Expected Sample  \\\n",
      "Covariate         Cell Type                                                 \n",
      "Condition[T.Salm] Endocrine                     0.000000        23.425261   \n",
      "                  Enterocyte                    1.443536       339.798016   \n",
      "                  Enterocyte.Progenitor         0.000000        97.789281   \n",
      "                  Goblet                        0.000000        41.713089   \n",
      "                  Stem                          0.000000       117.426778   \n",
      "                  TA                            0.000000        64.703479   \n",
      "                  TA.Early                      0.000000       137.939471   \n",
      "                  Tuft                          0.000000        12.204625   \n",
      "\n",
      "                                         log2-fold change  \n",
      "Covariate         Cell Type                                \n",
      "Condition[T.Salm] Endocrine                     -0.537147  \n",
      "                  Enterocyte                     1.545435  \n",
      "                  Enterocyte.Progenitor         -0.537147  \n",
      "                  Goblet                        -0.537147  \n",
      "                  Stem                          -0.537147  \n",
      "                  TA                            -0.537147  \n",
      "                  TA.Early                      -0.537147  \n",
      "                  Tuft                          -0.537147  \n"
     ],
     "output_type": "stream"
    }
   ],
   "source": [
    "sim_results.summary()"
   ],
   "metadata": {
    "collapsed": false,
    "pycharm": {
     "name": "#%%\n",
     "is_executing": false
    }
   }
  },
  {
   "cell_type": "markdown",
   "source": [
    "**Model properties**\n",
    "\n",
    "First, the summary shows an overview over the model properties: \n",
    "* Number of samples/cell types\n",
    "* Index of the baseline cell type, starting at 0.\n",
    "* The formula used\n",
    "\n",
    "The model has two types of parameters that are relevant for analysis - intercepts and effects. \n",
    "These can be interpreted like in a standard regression model:\n",
    "Intercepts show how the cell types are distributed without any active covariates, effects show ho the covariates influence the cell types.\n",
    "\n",
    "**Intercepts**\n",
    "\n",
    "The first column of the intercept summary shows the parameters determined by the MCMC inference.\n",
    "\n",
    "The \"Expected sample\" column gives some context to the numerical values. \n",
    "If we take the mean number of cells over all samples from our dataset, then the model expects a new sample with exaxtly that many cells to look like this.\n",
    "\n",
    "**Effects**\n",
    "\n",
    "For the effect summary, the first column again shows the inferred parameters for all combinations of covariates and cell types.  \n",
    "A value is zero means that no significant effect was detected. \n",
    "For a value other than zero, a significant change was detected. A positive sign indicates an increase, a negative sign a decrease.\n",
    "\n",
    "The \"Expected sample\" and \"log2-fold change\" columns give us an idea on the magnitude of this increase. \n",
    "The expected sample is calculated for each covariate separately (covariate value = 1), with the same method as for the intercepts.\n",
    "The log-fold change is then calculated between this column and the expected intercept sample.\n",
    "Since the data is compositional, cell types for which no significant change was detected, are expected to change as well.\n",
    "\n",
    "**Interpretation**\n",
    "\n",
    "In the salmonella case, we see only a significant increase of Enterocytes, while all other cell types are unaffected by the disease.\n",
    "The log-fold change of Enterocytes between control and infected samples with the same total cell count lies at about 1.54."
   ],
   "metadata": {
    "collapsed": false,
    "pycharm": {
     "name": "#%% md\n"
    }
   }
  },
  {
   "cell_type": "markdown",
   "metadata": {
    "pycharm": {
     "name": "#%% md\n"
    }
   },
   "source": [
    "### Diagnostics and plotting\n",
    "\n",
    "For further analysis, `summary_extended()` gives us more information about the model:"
   ]
  },
  {
   "cell_type": "code",
   "execution_count": 8,
   "outputs": [
    {
     "name": "stdout",
     "text": [
      "Compositional Analysis summary (extended):\n",
      "\n",
      "Data: 6 samples, 8 cell types\n",
      "Baseline index: None\n",
      "Formula: Condition\n",
      "Spike-and-slab threshold: 0.692\n",
      "\n",
      "MCMC Sampling: Sampled 20000 chain states (5000 burnin samples) in 122.948 sec. Acceptance rate: 60.7%\n",
      "\n",
      "Intercepts:\n",
      "                       Final Parameter  HDI 3%  HDI 97%     SD  \\\n",
      "Cell Type                                                        \n",
      "Endocrine                        1.087   0.363    1.845  0.402   \n",
      "Enterocyte                       2.318   1.723    2.863  0.315   \n",
      "Enterocyte.Progenitor            2.516   1.934    3.126  0.323   \n",
      "Goblet                           1.664   1.007    2.333  0.360   \n",
      "Stem                             2.699   2.085    3.227  0.312   \n",
      "TA                               2.103   1.473    2.671  0.329   \n",
      "TA.Early                         2.860   2.270    3.411  0.313   \n",
      "Tuft                             0.435  -0.347    1.138  0.393   \n",
      "\n",
      "                       Expected Sample  \n",
      "Cell Type                               \n",
      "Endocrine                    33.992407  \n",
      "Enterocyte                  116.412180  \n",
      "Enterocyte.Progenitor       141.902070  \n",
      "Goblet                       60.529882  \n",
      "Stem                        170.398050  \n",
      "TA                           93.891247  \n",
      "TA.Early                    200.164028  \n",
      "Tuft                         17.710137  \n",
      "\n",
      "\n",
      "Effects:\n",
      "                                         Final Parameter  HDI 3%  HDI 97%  \\\n",
      "Covariate         Cell Type                                                 \n",
      "Condition[T.Salm] Endocrine                     0.000000  -0.099    1.226   \n",
      "                  Enterocyte                    1.443536   0.991    1.951   \n",
      "                  Enterocyte.Progenitor         0.000000  -0.039    0.638   \n",
      "                  Goblet                        0.000000  -0.055    1.082   \n",
      "                  Stem                          0.000000  -0.424    0.139   \n",
      "                  TA                            0.000000  -0.473    0.307   \n",
      "                  TA.Early                      0.000000  -0.150    0.503   \n",
      "                  Tuft                          0.000000  -0.338    1.061   \n",
      "\n",
      "                                            SD  Inclusion probability  \\\n",
      "Covariate         Cell Type                                             \n",
      "Condition[T.Salm] Endocrine              0.418               0.472800   \n",
      "                  Enterocyte             0.268               1.000000   \n",
      "                  Enterocyte.Progenitor  0.219               0.299933   \n",
      "                  Goblet                 0.390               0.489000   \n",
      "                  Stem                   0.167               0.254333   \n",
      "                  TA                     0.197               0.279933   \n",
      "                  TA.Early               0.181               0.284667   \n",
      "                  Tuft                   0.333               0.324733   \n",
      "\n",
      "                                         Expected Sample  log2-fold change  \n",
      "Covariate         Cell Type                                                 \n",
      "Condition[T.Salm] Endocrine                    23.425261         -0.537147  \n",
      "                  Enterocyte                  339.798016          1.545435  \n",
      "                  Enterocyte.Progenitor        97.789281         -0.537147  \n",
      "                  Goblet                       41.713089         -0.537147  \n",
      "                  Stem                        117.426778         -0.537147  \n",
      "                  TA                           64.703479         -0.537147  \n",
      "                  TA.Early                    137.939471         -0.537147  \n",
      "                  Tuft                         12.204625         -0.537147  \n"
     ],
     "output_type": "stream"
    }
   ],
   "source": [
    "sim_results.summary_extended()"
   ],
   "metadata": {
    "collapsed": false,
    "pycharm": {
     "name": "#%%\n",
     "is_executing": false
    }
   }
  },
  {
   "cell_type": "markdown",
   "source": [
    "The spike-and-slab threshold value dpends on the number of cell types and determines the inclusion probability cutoff for significant effects.\n",
    "Further, the extended summary includes some information on the MCMC sampling procedure (chain length, burn-in, acceptance rate, duration).\n",
    "\n",
    "For both effects and intercepts, we also get the standard deviation and HPD interval endpoints of the elements of the generated Markov chain.\n",
    "The width of the credible interval can be set by e.g. `summary_extended(hdi_prob=0.9)`\n",
    "\n",
    "The effects summary also includes the spike-and-slab inclusion probability for each effect, i.e. the share of MCMC samples, for which this effect was not set to 0 by the spike-and-slab prior.\n",
    "\n",
    "We can also use the summary tables from `summary_extended()` as pandas DataFrames to tweak them further, for example we can show only the cell types with significant effects:"
   ],
   "metadata": {
    "collapsed": false,
    "pycharm": {
     "name": "#%% md\n"
    }
   }
  },
  {
   "cell_type": "code",
   "execution_count": 9,
   "outputs": [
    {
     "name": "stdout",
     "text": [
      "                              Final Parameter  HDI 3%  HDI 97%     SD  \\\n",
      "Covariate         Cell Type                                             \n",
      "Condition[T.Salm] Enterocyte         1.443536   0.991    1.951  0.268   \n",
      "\n",
      "                              Inclusion probability  Expected Sample  \\\n",
      "Covariate         Cell Type                                            \n",
      "Condition[T.Salm] Enterocyte                    1.0       339.798016   \n",
      "\n",
      "                              log2-fold change  \n",
      "Covariate         Cell Type                     \n",
      "Condition[T.Salm] Enterocyte          1.545435  \n"
     ],
     "output_type": "stream"
    }
   ],
   "source": [
    "# Intercept dataframe: sim_result.intercept_df\n",
    "# Effect dataframe: sim_result.effect_df\n",
    "\n",
    "sig_effects = sim_results.effect_df.loc[sim_results.effect_df[\"Final Parameter\"] != 0]\n",
    "print(sig_effects)"
   ],
   "metadata": {
    "collapsed": false,
    "pycharm": {
     "name": "#%%\n",
     "is_executing": false
    }
   }
  },
  {
   "cell_type": "markdown",
   "source": [
    "Also, the results object supports all plotting and diagnosis functions of [arviz](https://github.com/arviz-devs/arviz).\n"
   ],
   "metadata": {
    "collapsed": false,
    "pycharm": {
     "name": "#%% md\n"
    }
   }
  },
  {
   "cell_type": "code",
   "execution_count": 10,
   "outputs": [
    {
     "data": {
      "text/plain": "<Figure size 1490.4x993.6 with 9 Axes>",
      "image/png": "[encoded data removed]"
     },
     "metadata": {},
     "output_type": "display_data"
    }
   ],
   "source": [
    "# Example: Plot Markov chain density for all effects\n",
    "az.plot_density(sim_results, var_names=\"beta\")\n",
    "plt.show()"
   ],
   "metadata": {
    "collapsed": false,
    "pycharm": {
     "name": "#%%\n",
     "is_executing": false
    }
   }
  },
  {
   "cell_type": "markdown",
   "source": [
    "### Saving the results\n",
    "\n",
    "Result objects can simply be saved to disk via pickle:"
   ],
   "metadata": {
    "collapsed": false
   }
  },
  {
   "cell_type": "code",
   "execution_count": null,
   "outputs": [],
   "source": [
    "# saving\n",
    "path = \"test\"\n",
    "sim_results.save(path)\n",
    "\n",
    "# loading\n",
    "with open(path, \"rb\") as f:\n",
    "    sim_results_2 = pkl.load(f)\n",
    "    \n",
    "sim_results_2.summary()"
   ],
   "metadata": {
    "collapsed": false,
    "pycharm": {
     "name": "#%%\n"
    }
   }
  },
  {
   "cell_type": "markdown",
   "source": [
    "### Tweaking the model: categorical covariates, Baseline\n",
    "\n",
    "The compositional analysis models from *SCDCdm* are also able to automatically deal with categorical covariates via the [patsy](https://patsy.readthedocs.io/en/latest/) framework for formula specification. \n",
    "Per default, categorical variables are encoded via full-rank treatment coding. Hereby, the value of the first sample in the dataset is used as the reference (control) category.\n",
    "We can change this by tweaking the model formula to be `\"C(<CovariateName>, Treatment('<ReferenceLevelName>'))\"`:"
   ],
   "metadata": {
    "collapsed": false,
    "pycharm": {
     "name": "#%% md\n"
    }
   }
  },
  {
   "cell_type": "code",
   "execution_count": 11,
   "outputs": [
    {
     "name": "stdout",
     "text": [
      "Compositional Analysis summary:\n",
      "\n",
      "Data: 6 samples, 8 cell types\n",
      "Baseline index: None\n",
      "Formula: Condition\n",
      "\n",
      "Intercepts:\n",
      "                       Final Parameter  Expected Sample\n",
      "Cell Type                                              \n",
      "Endocrine                        1.087        33.992407\n",
      "Enterocyte                       2.318       116.412180\n",
      "Enterocyte.Progenitor            2.516       141.902070\n",
      "Goblet                           1.664        60.529882\n",
      "Stem                             2.699       170.398050\n",
      "TA                               2.103        93.891247\n",
      "TA.Early                         2.860       200.164028\n",
      "Tuft                             0.435        17.710137\n",
      "\n",
      "\n",
      "Effects:\n",
      "                                         Final Parameter  Expected Sample  \\\n",
      "Covariate         Cell Type                                                 \n",
      "Condition[T.Salm] Endocrine                     0.000000        23.425261   \n",
      "                  Enterocyte                    1.443536       339.798016   \n",
      "                  Enterocyte.Progenitor         0.000000        97.789281   \n",
      "                  Goblet                        0.000000        41.713089   \n",
      "                  Stem                          0.000000       117.426778   \n",
      "                  TA                            0.000000        64.703479   \n",
      "                  TA.Early                      0.000000       137.939471   \n",
      "                  Tuft                          0.000000        12.204625   \n",
      "\n",
      "                                         log2-fold change  \n",
      "Covariate         Cell Type                                \n",
      "Condition[T.Salm] Endocrine                     -0.537147  \n",
      "                  Enterocyte                     1.545435  \n",
      "                  Enterocyte.Progenitor         -0.537147  \n",
      "                  Goblet                        -0.537147  \n",
      "                  Stem                          -0.537147  \n",
      "                  TA                            -0.537147  \n",
      "                  TA.Early                      -0.537147  \n",
      "                  Tuft                          -0.537147  \n",
      "None\n"
     ],
     "output_type": "stream"
    }
   ],
   "source": [
    "# saving\n",
    "path = \"test\"\n",
    "sim_results.save(path)\n",
    "\n",
    "# loading\n",
    "with open(path, \"rb\") as f:\n",
    "    sim_results_2 = pkl.load(f)\n",
    "    \n",
    "sim_results_2.summary()"
   ],
   "metadata": {
    "collapsed": false,
    "pycharm": {
     "name": "#%%\n",
     "is_executing": false
    }
   }
  },
  {
   "cell_type": "markdown",
   "source": [
    "### Tweaking the model: categorical covariates, Baseline\n",
    "\n",
    "The compositional analysis models from *SCDCdm* are also able to automatically deal with categorical covariates via the [patsy](https://patsy.readthedocs.io/en/latest/) framework for formula specification. \n",
    "Per default, categorical variables are encoded via full-rank treatment coding. Hereby, the value of the first sample in the dataset is used as the reference (control) category.\n",
    "We can change this by tweaking the model formula to be `\"C(<CovariateName>, Treatment('<ReferenceLevelName>'))\"`:"
   ],
   "metadata": {
    "collapsed": false,
    "pycharm": {
     "name": "#%% md\n"
    }
   }
  },
  {
   "cell_type": "code",
   "execution_count": 12,
   "outputs": [
    {
     "name": "stdout",
     "text": [
      "MCMC sampling finished. (153.330 sec)\n",
      "Acceptance rate: 49.6%\n",
      "Compositional Analysis summary:\n",
      "\n",
      "Data: 6 samples, 8 cell types\n",
      "Baseline index: None\n",
      "Formula: C(Condition, Treatment('Salm'))\n",
      "\n",
      "Intercepts:\n",
      "                       Final Parameter  Expected Sample\n",
      "Cell Type                                              \n",
      "Endocrine                        1.336        28.982938\n",
      "Enterocyte                       3.757       326.264146\n",
      "Enterocyte.Progenitor            2.603       102.894821\n",
      "Goblet                           1.923        52.128265\n",
      "Stem                             2.677       110.797844\n",
      "TA                               2.090        61.602799\n",
      "TA.Early                         2.908       139.589687\n",
      "Tuft                             0.514        12.739499\n",
      "\n",
      "\n",
      "Effects:\n",
      "                                                                  Final Parameter  \\\n",
      "Covariate                                  Cell Type                                \n",
      "C(Condition, Treatment('Salm'))[T.Control] Endocrine                     0.000000   \n",
      "                                           Enterocyte                   -1.427285   \n",
      "                                           Enterocyte.Progenitor         0.000000   \n",
      "                                           Goblet                        0.000000   \n",
      "                                           Stem                          0.000000   \n",
      "                                           TA                            0.000000   \n",
      "                                           TA.Early                      0.000000   \n",
      "                                           Tuft                          0.000000   \n",
      "\n",
      "                                                                  Expected Sample  \\\n",
      "Covariate                                  Cell Type                                \n",
      "C(Condition, Treatment('Salm'))[T.Control] Endocrine                    41.226028   \n",
      "                                           Enterocyte                  111.361894   \n",
      "                                           Enterocyte.Progenitor       146.360067   \n",
      "                                           Goblet                       74.148497   \n",
      "                                           Stem                        157.601516   \n",
      "                                           TA                           87.625303   \n",
      "                                           TA.Early                    198.555726   \n",
      "                                           Tuft                         18.120969   \n",
      "\n",
      "                                                                  log2-fold change  \n",
      "Covariate                                  Cell Type                                \n",
      "C(Condition, Treatment('Salm'))[T.Control] Endocrine                      0.508352  \n",
      "                                           Enterocyte                    -1.550785  \n",
      "                                           Enterocyte.Progenitor          0.508352  \n",
      "                                           Goblet                         0.508352  \n",
      "                                           Stem                           0.508352  \n",
      "                                           TA                             0.508352  \n",
      "                                           TA.Early                       0.508352  \n",
      "                                           Tuft                           0.508352  \n"
     ],
     "output_type": "stream"
    }
   ],
   "source": [
    "# Set salmonella infection as reference category\n",
    "\n",
    "model_salm_switch_ref = mod.CompositionalAnalysis(data_salm, formula=\"C(Condition, Treatment('Salm'))\", baseline_index=None)\n",
    "switch_results = model_salm_switch_ref.sample_hmc()\n",
    "switch_results.summary()"
   ],
   "metadata": {
    "collapsed": false,
    "pycharm": {
     "name": "#%%\n",
     "is_executing": false
    }
   }
  },
  {
   "cell_type": "markdown",
   "source": [
    "We can also handle multiple levels of one categorical covariate:"
   ],
   "metadata": {
    "collapsed": false,
    "pycharm": {
     "name": "#%% md\n"
    }
   }
  },
  {
   "cell_type": "code",
   "execution_count": 13,
   "outputs": [
    {
     "name": "stderr",
     "text": [
      "Transforming to str index.\n"
     ],
     "output_type": "stream"
    },
    {
     "name": "stdout",
     "text": [
      "[[ 36.  59. 136.  36. 239. 125. 191.  18.]\n",
      " [  5.  46.  23.  20.  50.  11.  40.   5.]\n",
      " [ 45.  98. 188. 124. 250. 155. 365.  33.]\n",
      " [ 26. 221. 198.  36. 131. 130. 196.   4.]\n",
      " [ 42.  71. 203. 147. 271. 109. 180. 146.]\n",
      " [ 40.  57. 383. 170. 321. 244. 256.  71.]\n",
      " [ 52.  75. 347.  66. 323. 263. 313.  51.]\n",
      " [ 65. 126. 115.  33.  65.  39. 129.  59.]\n",
      " [ 37. 332. 113.  59.  90.  47. 132.  10.]\n",
      " [ 32. 373. 116.  67. 117.  65. 168.  12.]]\n",
      "            Mouse     Condition\n",
      "0       Control_1       Control\n",
      "1       Control_2       Control\n",
      "2       Control_3       Control\n",
      "3       Control_4       Control\n",
      "4  H.poly.Day10_1  H.poly.Day10\n",
      "5  H.poly.Day10_2  H.poly.Day10\n",
      "6   H.poly.Day3_1   H.poly.Day3\n",
      "7   H.poly.Day3_2   H.poly.Day3\n",
      "8          Salm_1          Salm\n",
      "9          Salm_2          Salm\n"
     ],
     "output_type": "stream"
    }
   ],
   "source": [
    "# Get dataset with all three diseases\n",
    "\n",
    "data_all = dat.from_pandas(cell_counts, covariate_columns=[\"Mouse\"])\n",
    "data_all.obs[\"Condition\"] = data_all.obs[\"Mouse\"].str.replace(r\"_[0-9]\", \"\")\n",
    "print(data_all.X)\n",
    "print(data_all.obs)"
   ],
   "metadata": {
    "collapsed": false,
    "pycharm": {
     "name": "#%%\n",
     "is_executing": false
    }
   }
  },
  {
   "cell_type": "code",
   "execution_count": 14,
   "outputs": [
    {
     "name": "stdout",
     "text": [
      "MCMC sampling finished. (165.183 sec)\n",
      "Acceptance rate: 48.7%\n",
      "Compositional Analysis summary:\n",
      "\n",
      "Data: 10 samples, 8 cell types\n",
      "Baseline index: None\n",
      "Formula: Condition\n",
      "\n",
      "Intercepts:\n",
      "                       Final Parameter  Expected Sample\n",
      "Cell Type                                              \n",
      "Endocrine                        0.932        44.080004\n",
      "Enterocyte                       1.966       123.965868\n",
      "Enterocyte.Progenitor            2.340       180.188994\n",
      "Goblet                           1.457        74.515434\n",
      "Stem                             2.424       195.978756\n",
      "TA                               1.879       113.636671\n",
      "TA.Early                         2.547       221.629322\n",
      "Tuft                             0.554        30.204964\n",
      "\n",
      "\n",
      "Effects:\n",
      "                                                 Final Parameter  \\\n",
      "Covariate                 Cell Type                                \n",
      "Condition[T.H.poly.Day10] Endocrine                     0.000000   \n",
      "                          Enterocyte                   -0.706797   \n",
      "                          Enterocyte.Progenitor         0.000000   \n",
      "                          Goblet                        0.000000   \n",
      "                          Stem                          0.000000   \n",
      "                          TA                            0.000000   \n",
      "                          TA.Early                      0.000000   \n",
      "                          Tuft                          0.865361   \n",
      "Condition[T.H.poly.Day3]  Endocrine                     0.000000   \n",
      "                          Enterocyte                    0.000000   \n",
      "                          Enterocyte.Progenitor         0.000000   \n",
      "                          Goblet                        0.000000   \n",
      "                          Stem                          0.000000   \n",
      "                          TA                            0.000000   \n",
      "                          TA.Early                      0.000000   \n",
      "                          Tuft                          0.000000   \n",
      "Condition[T.Salm]         Endocrine                     0.000000   \n",
      "                          Enterocyte                    1.479182   \n",
      "                          Enterocyte.Progenitor         0.000000   \n",
      "                          Goblet                        0.000000   \n",
      "                          Stem                          0.000000   \n",
      "                          TA                            0.000000   \n",
      "                          TA.Early                      0.000000   \n",
      "                          Tuft                          0.000000   \n",
      "\n",
      "                                                 Expected Sample  \\\n",
      "Covariate                 Cell Type                                \n",
      "Condition[T.H.poly.Day10] Endocrine                    45.053462   \n",
      "                          Enterocyte                   62.492881   \n",
      "                          Enterocyte.Progenitor       184.168265   \n",
      "                          Goblet                       76.161023   \n",
      "                          Stem                        200.306727   \n",
      "                          TA                          116.146210   \n",
      "                          TA.Early                    226.523757   \n",
      "                          Tuft                         73.347688   \n",
      "Condition[T.H.poly.Day3]  Endocrine                    44.080004   \n",
      "                          Enterocyte                  123.965868   \n",
      "                          Enterocyte.Progenitor       180.188994   \n",
      "                          Goblet                       74.515434   \n",
      "                          Stem                        195.978756   \n",
      "                          TA                          113.636671   \n",
      "                          TA.Early                    221.629322   \n",
      "                          Tuft                         30.204964   \n",
      "Condition[T.Salm]         Endocrine                    30.891950   \n",
      "                          Enterocyte                  381.334588   \n",
      "                          Enterocyte.Progenitor       126.279240   \n",
      "                          Goblet                       52.221571   \n",
      "                          Stem                        137.344950   \n",
      "                          TA                           79.638341   \n",
      "                          TA.Early                    155.321265   \n",
      "                          Tuft                         21.168107   \n",
      "\n",
      "                                                 log2-fold change  \n",
      "Covariate                 Cell Type                                \n",
      "Condition[T.H.poly.Day10] Endocrine                      0.031514  \n",
      "                          Enterocyte                    -0.988179  \n",
      "                          Enterocyte.Progenitor          0.031514  \n",
      "                          Goblet                         0.031514  \n",
      "                          Stem                           0.031514  \n",
      "                          TA                             0.031514  \n",
      "                          TA.Early                       0.031514  \n",
      "                          Tuft                           1.279966  \n",
      "Condition[T.H.poly.Day3]  Endocrine                      0.000000  \n",
      "                          Enterocyte                     0.000000  \n",
      "                          Enterocyte.Progenitor          0.000000  \n",
      "                          Goblet                         0.000000  \n",
      "                          Stem                           0.000000  \n",
      "                          TA                             0.000000  \n",
      "                          TA.Early                       0.000000  \n",
      "                          Tuft                           0.000000  \n",
      "Condition[T.Salm]         Endocrine                     -0.512893  \n",
      "                          Enterocyte                     1.621114  \n",
      "                          Enterocyte.Progenitor         -0.512893  \n",
      "                          Goblet                        -0.512893  \n",
      "                          Stem                          -0.512893  \n",
      "                          TA                            -0.512893  \n",
      "                          TA.Early                      -0.512893  \n",
      "                          Tuft                          -0.512893  \n"
     ],
     "output_type": "stream"
    }
   ],
   "source": [
    "# model all three diseases at once\n",
    "model_all = mod.CompositionalAnalysis(data_all, formula=\"Condition\", baseline_index=None)\n",
    "switch_results = model_all.sample_hmc()\n",
    "switch_results.summary()"
   ],
   "metadata": {
    "collapsed": false,
    "pycharm": {
     "name": "#%%\n",
     "is_executing": false
    }
   }
  },
  {
   "cell_type": "markdown",
   "source": [
    "*SCDCdm* also allows us to set a baseline cell type whose effect is always 0. \n",
    "If such a cell type exists, it is recommended to set it as the baseline to avoid interpretion issues.\n",
    "\n",
    "The baseline can easily be specified in the model setup:"
   ],
   "metadata": {
    "collapsed": false,
    "pycharm": {
     "name": "#%% md\n"
    }
   }
  },
  {
   "cell_type": "code",
   "execution_count": 15,
   "outputs": [
    {
     "name": "stdout",
     "text": [
      "MCMC sampling finished. (210.718 sec)\n",
      "Acceptance rate: 55.3%\n",
      "Compositional Analysis summary:\n",
      "\n",
      "Data: 6 samples, 8 cell types\n",
      "Baseline index: 0\n",
      "Formula: Condition\n",
      "\n",
      "Intercepts:\n",
      "                       Final Parameter  Expected Sample\n",
      "Cell Type                                              \n",
      "Endocrine                        1.161        37.160323\n",
      "Enterocyte                       2.300       116.075590\n",
      "Enterocyte.Progenitor            2.495       141.067940\n",
      "Goblet                           1.671        61.882759\n",
      "Stem                             2.680       169.735547\n",
      "TA                               2.086        93.713440\n",
      "TA.Early                         2.835       198.193062\n",
      "Tuft                             0.389        17.171338\n",
      "\n",
      "\n",
      "Effects:\n",
      "                                         Final Parameter  Expected Sample  \\\n",
      "Covariate         Cell Type                                                 \n",
      "Condition[T.Salm] Endocrine                     0.000000        25.918512   \n",
      "                  Enterocyte                    1.415883       333.565973   \n",
      "                  Enterocyte.Progenitor         0.000000        98.391798   \n",
      "                  Goblet                        0.000000        43.161869   \n",
      "                  Stem                          0.000000       118.386825   \n",
      "                  TA                            0.000000        65.363072   \n",
      "                  TA.Early                      0.000000       138.235319   \n",
      "                  Tuft                          0.000000        11.976632   \n",
      "\n",
      "                                         log2-fold change  \n",
      "Covariate         Cell Type                                \n",
      "Condition[T.Salm] Endocrine                     -0.519780  \n",
      "                  Enterocyte                     1.522908  \n",
      "                  Enterocyte.Progenitor         -0.519780  \n",
      "                  Goblet                        -0.519780  \n",
      "                  Stem                          -0.519780  \n",
      "                  TA                            -0.519780  \n",
      "                  TA.Early                      -0.519780  \n",
      "                  Tuft                          -0.519780  \n"
     ],
     "output_type": "stream"
    }
   ],
   "source": [
    "# model salmonella infection with baseline set to Endocrine cells\n",
    "model_baseline = mod.CompositionalAnalysis(data_salm, formula=\"Condition\", baseline_index=\"Endocrine\")\n",
    "baseline_results = model_baseline.sample_hmc()\n",
    "baseline_results.summary()"
   ],
   "metadata": {
    "collapsed": false,
    "pycharm": {
     "name": "#%%\n",
     "is_executing": false
    }
   }
  }
 ],
 "metadata": {
  "kernelspec": {
   "name": "pycharm-6bf36ab6",
   "language": "python",
   "display_name": "PyCharm (SCDCdm_public)"
  },
  "language_info": {
   "codemirror_mode": {
    "name": "ipython",
    "version": 3
   },
   "file_extension": ".py",
   "mimetype": "text/x-python",
   "name": "python",
   "nbconvert_exporter": "python",
   "pygments_lexer": "ipython3",
   "version": "3.7.6"
  },
  "pycharm": {
   "stem_cell": {
    "cell_type": "raw",
    "source": [],
    "metadata": {
     "collapsed": false
    }
   }
  }
 },
 "nbformat": 4,
 "nbformat_minor": 1
}