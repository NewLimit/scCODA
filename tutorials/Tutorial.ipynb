{
 "cells": [
  {
   "cell_type": "markdown",
   "metadata": {
    "collapsed": true,
    "pycharm": {
     "name": "#%% md\n"
    }
   },
   "source": [
    "# scCODA - Compositional analysis of single-cell data\n"
   ]
  },
  {
   "cell_type": "markdown",
   "metadata": {
    "pycharm": {
     "name": "#%% md\n"
    }
   },
   "source": [
    "\n",
    "This notebook serves as a tutorial for using the *scCODA* package to analyze changes in cell composition data.\n",
    "\n",
    "The package is intended to be used with data coming from single-cell RNA-seq experiments, however there are no \n",
    "restrictions that prevent the use of data from other sources.\n",
    "\n",
    "The data we use in the following example comes from [*Haber et al. [2017]*](https://www.nature.com/articles/nature24489).\n",
    "It contains samples from the small intestinal epithelium of mice with different conditions.\n"
   ]
  },
  {
   "cell_type": "code",
   "execution_count": 17,
   "metadata": {
    "pycharm": {
     "name": "#%%\n"
    }
   },
   "outputs": [],
   "source": [
    "# Setup\n",
    "import warnings\n",
    "warnings.filterwarnings(\"ignore\")\n",
    "\n",
    "import pandas as pd\n",
    "import matplotlib.pyplot as plt\n",
    "import seaborn as sns\n",
    "import arviz as az\n",
    "import pickle as pkl\n",
    "\n",
    "from sccoda.util import comp_ana as mod\n",
    "from sccoda.util import cell_composition_data as dat\n",
    "\n"
   ]
  },
  {
   "cell_type": "markdown",
   "metadata": {},
   "source": [
    "### Data preparation"
   ]
  },
  {
   "cell_type": "code",
   "execution_count": 18,
   "metadata": {
    "pycharm": {
     "name": "#%%\n"
    }
   },
   "outputs": [
    {
     "name": "stdout",
     "output_type": "stream",
     "text": [
      "            Mouse  Endocrine  Enterocyte  Enterocyte.Progenitor  Goblet  Stem  \\\n",
      "0       Control_1         36          59                    136      36   239   \n",
      "1       Control_2          5          46                     23      20    50   \n",
      "2       Control_3         45          98                    188     124   250   \n",
      "3       Control_4         26         221                    198      36   131   \n",
      "4  H.poly.Day10_1         42          71                    203     147   271   \n",
      "5  H.poly.Day10_2         40          57                    383     170   321   \n",
      "6   H.poly.Day3_1         52          75                    347      66   323   \n",
      "7   H.poly.Day3_2         65         126                    115      33    65   \n",
      "8          Salm_1         37         332                    113      59    90   \n",
      "9          Salm_2         32         373                    116      67   117   \n",
      "\n",
      "    TA  TA.Early  Tuft  \n",
      "0  125       191    18  \n",
      "1   11        40     5  \n",
      "2  155       365    33  \n",
      "3  130       196     4  \n",
      "4  109       180   146  \n",
      "5  244       256    71  \n",
      "6  263       313    51  \n",
      "7   39       129    59  \n",
      "8   47       132    10  \n",
      "9   65       168    12  \n"
     ]
    }
   ],
   "source": [
    "# Load data\n",
    "\n",
    "cell_counts = pd.read_csv(\"../data/haber_counts.csv\")\n",
    "\n",
    "print(cell_counts)"
   ]
  },
  {
   "cell_type": "markdown",
   "metadata": {},
   "source": [
    "Looking at the data, we see that we have 4 control samples, and 3 conditions with 2 samples each. \n",
    "To use the models in *scCODA*, we first have to convert the data into an [anndata](https://github.com/theislab/anndata) object.\n",
    "This object separates our data components: Cell counts are stored in `data.X`, covariates in `data.obs`.\n",
    "\n",
    "For our first example, we want to look at how the Salmonella infection influences the cell composition.\n",
    "\n"
   ]
  },
  {
   "cell_type": "code",
   "execution_count": 19,
   "metadata": {},
   "outputs": [
    {
     "name": "stdout",
     "output_type": "stream",
     "text": [
      "[[ 36.  59. 136.  36. 239. 125. 191.  18.]\n",
      " [  5.  46.  23.  20.  50.  11.  40.   5.]\n",
      " [ 45.  98. 188. 124. 250. 155. 365.  33.]\n",
      " [ 26. 221. 198.  36. 131. 130. 196.   4.]\n",
      " [ 37. 332. 113.  59.  90.  47. 132.  10.]\n",
      " [ 32. 373. 116.  67. 117.  65. 168.  12.]]\n",
      "       Mouse Condition\n",
      "0  Control_1   Control\n",
      "1  Control_2   Control\n",
      "2  Control_3   Control\n",
      "3  Control_4   Control\n",
      "8     Salm_1      Salm\n",
      "9     Salm_2      Salm\n"
     ]
    }
   ],
   "source": [
    "# Convert data to anndata object\n",
    "\n",
    "# Filter out control and salmonella data\n",
    "salm_indices = [0, 1, 2, 3, 8, 9]\n",
    "salm_df = cell_counts.iloc[salm_indices, :]\n",
    "\n",
    "# Convert to a CompositionalData object\n",
    "data_salm = dat.from_pandas(salm_df, covariate_columns=[\"Mouse\"])\n",
    "\n",
    "# Extract condition from mouse name and add it as an extra column to the covariates\n",
    "data_salm.obs[\"Condition\"] = data_salm.obs[\"Mouse\"].str.replace(r\"_[0-9]\", \"\")\n",
    "print(data_salm.X)\n",
    "print(data_salm.obs)"
   ]
  },
  {
   "cell_type": "markdown",
   "source": [
    "Plotting the data, we can see that there is a large increase of Enterocytes in the infected sampes, while most other cell types slightly decrease.\n",
    "Since scRNA-seq experiments are limited in the number of cells per sample, the count data is compositional, which leads to negative correlations between the cell types.\n",
    "Thus, the slight decreases in many cell types might be fully caused by the increase in Enterocytes."
   ],
   "metadata": {
    "collapsed": false,
    "pycharm": {
     "name": "#%% md\n"
    }
   }
  },
  {
   "cell_type": "code",
   "execution_count": 20,
   "outputs": [
    {
     "data": {
      "text/plain": "<Figure size 864x360 with 1 Axes>",
      "image/png": "[encoded data removed]"
     },
     "metadata": {},
     "output_type": "display_data"
    }
   ],
   "source": [
    "fig, ax = plt.subplots(figsize=(12,5))\n",
    "df = pd.melt(salm_df, id_vars=['Mouse'], value_vars=salm_df.columns[1:])\n",
    "sns.set_context('notebook')\n",
    "sns.set_style('ticks')\n",
    "d = sns.barplot(x='variable', y = 'value', hue=df[\"Mouse\"].str.replace(r\"_[0-9]\", \"\"), data=df)\n",
    "d.set_ylabel('Cell Count')\n",
    "loc, labels = plt.xticks()\n",
    "d.set_xticklabels(labels, rotation=90)\n",
    "d.set_xlabel('Cell type')\n",
    "plt.show()"
   ],
   "metadata": {
    "collapsed": false,
    "pycharm": {
     "name": "#%%\n"
    }
   }
  },
  {
   "cell_type": "markdown",
   "source": [
    "*Note that the use of* anndata *in* scCODA *is different from the use in scRNA-seq pipelines, e.g.* scanpy.\n",
    "*To convert* scanpy *objects to a scCODA dataset, have a look at `dat.from_scanpy_list`.*"
   ],
   "metadata": {
    "collapsed": false,
    "pycharm": {
     "name": "#%% md\n"
    }
   }
  },
  {
   "cell_type": "markdown",
   "metadata": {},
   "source": [
    "### Model setup and inference\n",
    "\n",
    "We can now create the model and run inference on it. The `mod.CompositionalAnalysis` class takes our data object and performs parameter inference on it.\n",
    "\n",
    "The `formula` parameter specifies how the covariates are used in the model. It can process R-style formulas via the [patsy](https://patsy.readthedocs.io/en/latest/) package, e.g. `formula=\"Cov1 + Cov2 + Cov3\"`.\n",
    "\n",
    "The `baseline_index` parameter is used to specify a cell type that is left unchanged by the covariates.\n",
    "This feature is optional, a baseline index of `None` specifies the model without baseline specification.\n",
    "For now, we will use no baseline index."
   ]
  },
  {
   "cell_type": "code",
   "execution_count": 21,
   "metadata": {},
   "outputs": [],
   "source": [
    "model_salm = mod.CompositionalAnalysis(data_salm, formula=\"Condition\", baseline_index=None)"
   ]
  },
  {
   "cell_type": "markdown",
   "source": [
    "HMC sampling can be performed by calling `sample_hmc()` on the model, which produces a `sccoda.util.result_classes.CAResult` object."
   ],
   "metadata": {
    "collapsed": false,
    "pycharm": {
     "name": "#%% md\n"
    }
   }
  },
  {
   "cell_type": "code",
   "execution_count": 22,
   "metadata": {},
   "outputs": [
    {
     "name": "stdout",
     "output_type": "stream",
     "text": [
      "WARNING:tensorflow:5 out of the last 5 calls to <function CompositionalModel.sampling.<locals>.sample_mcmc at 0x7fa4487f1b00> triggered tf.function retracing. Tracing is expensive and the excessive number of tracings could be due to (1) creating @tf.function repeatedly in a loop, (2) passing tensors with different shapes, (3) passing Python objects instead of tensors. For (1), please define your @tf.function outside of the loop. For (2), @tf.function has experimental_relax_shapes=True option that relaxes argument shapes that can avoid unnecessary retracing. For (3), please refer to https://www.tensorflow.org/tutorials/customization/performance#python_or_tensor_args and https://www.tensorflow.org/api_docs/python/tf/function for  more details.\n",
      "MCMC sampling finished. (48.620 sec)\n",
      "Acceptance rate: 55.3%\n"
     ]
    }
   ],
   "source": [
    "# Run MCMC\n",
    "sim_results = model_salm.sample_hmc()"
   ]
  },
  {
   "cell_type": "markdown",
   "source": [
    "### Result interpretation\n",
    "\n",
    "Calling `summary()` on the results object, we can see all relevant information for further analysis:"
   ],
   "metadata": {
    "collapsed": false,
    "pycharm": {
     "name": "#%% md\n"
    }
   }
  },
  {
   "cell_type": "code",
   "execution_count": 23,
   "outputs": [
    {
     "name": "stdout",
     "output_type": "stream",
     "text": [
      "Compositional Analysis summary:\n",
      "\n",
      "Data: 6 samples, 8 cell types\n",
      "Baseline index: None\n",
      "Formula: Condition\n",
      "\n",
      "Intercepts:\n",
      "                       Final Parameter  Expected Sample\n",
      "Cell Type                                              \n",
      "Endocrine                        1.123        34.003785\n",
      "Enterocyte                       2.356       116.684282\n",
      "Enterocyte.Progenitor            2.550       141.665953\n",
      "Goblet                           1.686        59.708348\n",
      "Stem                             2.741       171.480892\n",
      "TA                               2.132        93.267513\n",
      "TA.Early                         2.898       200.631892\n",
      "Tuft                             0.462        17.557336\n",
      "\n",
      "\n",
      "Effects:\n",
      "                                         Final Parameter  Expected Sample  \\\n",
      "Covariate         Cell Type                                                 \n",
      "Condition[T.Salm] Endocrine                     0.000000        23.309476   \n",
      "                  Enterocyte                    1.454695       342.597085   \n",
      "                  Enterocyte.Progenitor         0.000000        97.111516   \n",
      "                  Goblet                        0.000000        40.929864   \n",
      "                  Stem                          0.000000       117.549552   \n",
      "                  TA                            0.000000        63.934554   \n",
      "                  TA.Early                      0.000000       137.532461   \n",
      "                  Tuft                          0.000000        12.035492   \n",
      "\n",
      "                                         log2-fold change  \n",
      "Covariate         Cell Type                                \n",
      "Condition[T.Salm] Endocrine                     -0.544779  \n",
      "                  Enterocyte                     1.553903  \n",
      "                  Enterocyte.Progenitor         -0.544779  \n",
      "                  Goblet                        -0.544779  \n",
      "                  Stem                          -0.544779  \n",
      "                  TA                            -0.544779  \n",
      "                  TA.Early                      -0.544779  \n",
      "                  Tuft                          -0.544779  \n"
     ]
    }
   ],
   "source": [
    "sim_results.summary()"
   ],
   "metadata": {
    "collapsed": false,
    "pycharm": {
     "name": "#%%\n"
    }
   }
  },
  {
   "cell_type": "markdown",
   "source": [
    "**Model properties**\n",
    "\n",
    "First, the summary shows an overview over the model properties: \n",
    "* Number of samples/cell types\n",
    "* Index of the baseline cell type, starting at 0.\n",
    "* The formula used\n",
    "\n",
    "The model has two types of parameters that are relevant for analysis - intercepts and effects. \n",
    "These can be interpreted like in a standard regression model:\n",
    "Intercepts show how the cell types are distributed without any active covariates, effects show ho the covariates influence the cell types.\n",
    "\n",
    "**Intercepts**\n",
    "\n",
    "The first column of the intercept summary shows the parameters determined by the MCMC inference.\n",
    "\n",
    "The \"Expected sample\" column gives some context to the numerical values. \n",
    "If we take the mean number of cells over all samples from our dataset, then the model expects a new sample with exaxtly that many cells to look like this.\n",
    "\n",
    "**Effects**\n",
    "\n",
    "For the effect summary, the first column again shows the inferred parameters for all combinations of covariates and cell types.  \n",
    "A value is zero means that no significant effect was detected. \n",
    "For a value other than zero, a significant change was detected. A positive sign indicates an increase, a negative sign a decrease.\n",
    "\n",
    "The \"Expected sample\" and \"log2-fold change\" columns give us an idea on the magnitude of this increase. \n",
    "The expected sample is calculated for each covariate separately (covariate value = 1), with the same method as for the intercepts.\n",
    "The log-fold change is then calculated between this column and the expected intercept sample.\n",
    "Since the data is compositional, cell types for which no significant change was detected, are expected to change as well.\n",
    "\n",
    "**Interpretation**\n",
    "\n",
    "In the salmonella case, we see only a significant increase of Enterocytes, while all other cell types are unaffected by the disease.\n",
    "The log-fold change of Enterocytes between control and infected samples with the same total cell count lies at about 1.54."
   ],
   "metadata": {
    "collapsed": false,
    "pycharm": {
     "name": "#%% md\n"
    }
   }
  },
  {
   "cell_type": "markdown",
   "metadata": {
    "pycharm": {
     "name": "#%% md\n"
    }
   },
   "source": [
    "### Diagnostics and plotting\n",
    "\n",
    "For further analysis, `summary_extended()` gives us more information about the model:"
   ]
  },
  {
   "cell_type": "code",
   "execution_count": 24,
   "outputs": [
    {
     "name": "stdout",
     "output_type": "stream",
     "text": [
      "Compositional Analysis summary (extended):\n",
      "\n",
      "Data: 6 samples, 8 cell types\n",
      "Baseline index: None\n",
      "Formula: Condition\n",
      "Spike-and-slab threshold: 0.579\n",
      "\n",
      "MCMC Sampling: Sampled 20000 chain states (5000 burnin samples) in 48.620 sec. Acceptance rate: 55.3%\n",
      "\n",
      "Intercepts:\n",
      "                       Final Parameter  HDI 3%  HDI 97%     SD  \\\n",
      "Cell Type                                                        \n",
      "Endocrine                        1.123   0.410    1.788  0.372   \n",
      "Enterocyte                       2.356   1.789    2.916  0.302   \n",
      "Enterocyte.Progenitor            2.550   1.943    3.108  0.310   \n",
      "Goblet                           1.686   1.041    2.294  0.340   \n",
      "Stem                             2.741   2.120    3.260  0.305   \n",
      "TA                               2.132   1.542    2.749  0.318   \n",
      "TA.Early                         2.898   2.268    3.387  0.302   \n",
      "Tuft                             0.462  -0.265    1.160  0.389   \n",
      "\n",
      "                       Expected Sample  \n",
      "Cell Type                               \n",
      "Endocrine                    34.003785  \n",
      "Enterocyte                  116.684282  \n",
      "Enterocyte.Progenitor       141.665953  \n",
      "Goblet                       59.708348  \n",
      "Stem                        171.480892  \n",
      "TA                           93.267513  \n",
      "TA.Early                    200.631892  \n",
      "Tuft                         17.557336  \n",
      "\n",
      "\n",
      "Effects:\n",
      "                                         Final Parameter  HDI 3%  HDI 97%  \\\n",
      "Covariate         Cell Type                                                 \n",
      "Condition[T.Salm] Endocrine                     0.000000  -0.064    1.258   \n",
      "                  Enterocyte                    1.454695   0.925    1.921   \n",
      "                  Enterocyte.Progenitor         0.000000  -0.122    0.631   \n",
      "                  Goblet                        0.000000  -0.023    1.119   \n",
      "                  Stem                          0.000000  -0.558    0.148   \n",
      "                  TA                            0.000000  -0.531    0.240   \n",
      "                  TA.Early                      0.000000  -0.112    0.545   \n",
      "                  Tuft                          0.000000  -0.417    0.970   \n",
      "\n",
      "                                            SD  Inclusion probability  \\\n",
      "Covariate         Cell Type                                             \n",
      "Condition[T.Salm] Endocrine              0.419               0.514267   \n",
      "                  Enterocyte             0.278               0.999467   \n",
      "                  Enterocyte.Progenitor  0.238               0.361000   \n",
      "                  Goblet                 0.402               0.572600   \n",
      "                  Stem                   0.194               0.253133   \n",
      "                  TA                     0.195               0.259533   \n",
      "                  TA.Early               0.212               0.332533   \n",
      "                  Tuft                   0.342               0.345867   \n",
      "\n",
      "                                         Expected Sample  log2-fold change  \n",
      "Covariate         Cell Type                                                 \n",
      "Condition[T.Salm] Endocrine                    23.309476         -0.544779  \n",
      "                  Enterocyte                  342.597085          1.553903  \n",
      "                  Enterocyte.Progenitor        97.111516         -0.544779  \n",
      "                  Goblet                       40.929864         -0.544779  \n",
      "                  Stem                        117.549552         -0.544779  \n",
      "                  TA                           63.934554         -0.544779  \n",
      "                  TA.Early                    137.532461         -0.544779  \n",
      "                  Tuft                         12.035492         -0.544779  \n"
     ]
    }
   ],
   "source": [
    "sim_results.summary_extended()"
   ],
   "metadata": {
    "collapsed": false,
    "pycharm": {
     "name": "#%%\n"
    }
   }
  },
  {
   "cell_type": "markdown",
   "source": [
    "The spike-and-slab threshold value dpends on the number of cell types and determines the inclusion probability cutoff for significant effects.\n",
    "Further, the extended summary includes some information on the MCMC sampling procedure (chain length, burn-in, acceptance rate, duration).\n",
    "\n",
    "For both effects and intercepts, we also get the standard deviation and HPD interval endpoints of the elements of the generated Markov chain.\n",
    "The width of the credible interval can be set by e.g. `summary_extended(hdi_prob=0.9)`\n",
    "\n",
    "The effects summary also includes the spike-and-slab inclusion probability for each effect, i.e. the share of MCMC samples, for which this effect was not set to 0 by the spike-and-slab prior.\n",
    "\n",
    "We can also use the summary tables from `summary_extended()` as pandas DataFrames to tweak them further, for example we can show only the cell types with significant effects:"
   ],
   "metadata": {
    "collapsed": false,
    "pycharm": {
     "name": "#%% md\n"
    }
   }
  },
  {
   "cell_type": "code",
   "execution_count": 25,
   "outputs": [
    {
     "name": "stdout",
     "output_type": "stream",
     "text": [
      "                              Final Parameter  HDI 3%  HDI 97%     SD  \\\n",
      "Covariate         Cell Type                                             \n",
      "Condition[T.Salm] Enterocyte         1.454695   0.925    1.921  0.278   \n",
      "\n",
      "                              Inclusion probability  Expected Sample  \\\n",
      "Covariate         Cell Type                                            \n",
      "Condition[T.Salm] Enterocyte               0.999467       342.597085   \n",
      "\n",
      "                              log2-fold change  \n",
      "Covariate         Cell Type                     \n",
      "Condition[T.Salm] Enterocyte          1.553903  \n"
     ]
    }
   ],
   "source": [
    "# Intercept dataframe: sim_result.intercept_df\n",
    "# Effect dataframe: sim_result.effect_df\n",
    "\n",
    "sig_effects = sim_results.effect_df.loc[sim_results.effect_df[\"Final Parameter\"] != 0]\n",
    "print(sig_effects)"
   ],
   "metadata": {
    "collapsed": false,
    "pycharm": {
     "name": "#%%\n"
    }
   }
  },
  {
   "cell_type": "markdown",
   "source": [
    "Also, the results object supports all plotting and diagnosis functions of [arviz](https://github.com/arviz-devs/arviz).\n"
   ],
   "metadata": {
    "collapsed": false,
    "pycharm": {
     "name": "#%% md\n"
    }
   }
  },
  {
   "cell_type": "code",
   "execution_count": 26,
   "outputs": [
    {
     "data": {
      "text/plain": "<Figure size 1490.4x993.6 with 9 Axes>",
      "image/png": "[encoded data removed]"
     },
     "metadata": {},
     "output_type": "display_data"
    }
   ],
   "source": [
    "# Example: Plot Markov chain density for all effects\n",
    "az.plot_density(sim_results, var_names=\"beta\")\n",
    "plt.show()"
   ],
   "metadata": {
    "collapsed": false,
    "pycharm": {
     "name": "#%%\n"
    }
   }
  },
  {
   "cell_type": "markdown",
   "source": [
    "### Saving the results\n",
    "\n",
    "Result objects can simply be saved to disk via pickle:"
   ],
   "metadata": {
    "collapsed": false
   }
  },
  {
   "cell_type": "code",
   "execution_count": 27,
   "outputs": [
    {
     "name": "stdout",
     "output_type": "stream",
     "text": [
      "Compositional Analysis summary:\n",
      "\n",
      "Data: 6 samples, 8 cell types\n",
      "Baseline index: None\n",
      "Formula: Condition\n",
      "\n",
      "Intercepts:\n",
      "                       Final Parameter  Expected Sample\n",
      "Cell Type                                              \n",
      "Endocrine                        1.123        34.003785\n",
      "Enterocyte                       2.356       116.684282\n",
      "Enterocyte.Progenitor            2.550       141.665953\n",
      "Goblet                           1.686        59.708348\n",
      "Stem                             2.741       171.480892\n",
      "TA                               2.132        93.267513\n",
      "TA.Early                         2.898       200.631892\n",
      "Tuft                             0.462        17.557336\n",
      "\n",
      "\n",
      "Effects:\n",
      "                                         Final Parameter  Expected Sample  \\\n",
      "Covariate         Cell Type                                                 \n",
      "Condition[T.Salm] Endocrine                     0.000000        23.309476   \n",
      "                  Enterocyte                    1.454695       342.597085   \n",
      "                  Enterocyte.Progenitor         0.000000        97.111516   \n",
      "                  Goblet                        0.000000        40.929864   \n",
      "                  Stem                          0.000000       117.549552   \n",
      "                  TA                            0.000000        63.934554   \n",
      "                  TA.Early                      0.000000       137.532461   \n",
      "                  Tuft                          0.000000        12.035492   \n",
      "\n",
      "                                         log2-fold change  \n",
      "Covariate         Cell Type                                \n",
      "Condition[T.Salm] Endocrine                     -0.544779  \n",
      "                  Enterocyte                     1.553903  \n",
      "                  Enterocyte.Progenitor         -0.544779  \n",
      "                  Goblet                        -0.544779  \n",
      "                  Stem                          -0.544779  \n",
      "                  TA                            -0.544779  \n",
      "                  TA.Early                      -0.544779  \n",
      "                  Tuft                          -0.544779  \n"
     ]
    }
   ],
   "source": [
    "# saving\n",
    "path = \"test\"\n",
    "sim_results.save(path)\n",
    "\n",
    "# loading\n",
    "with open(path, \"rb\") as f:\n",
    "    sim_results_2 = pkl.load(f)\n",
    "    \n",
    "sim_results_2.summary()"
   ],
   "metadata": {
    "collapsed": false,
    "pycharm": {
     "name": "#%%\n"
    }
   }
  },
  {
   "cell_type": "markdown",
   "source": [
    "### Saving results\n",
    "\n",
    "The compositional analysis results can be saved as a pickle object via `results.save(<path_to_file>)`."
   ],
   "metadata": {
    "collapsed": false,
    "pycharm": {
     "name": "#%% md\n"
    }
   }
  },
  {
   "cell_type": "code",
   "execution_count": 28,
   "outputs": [
    {
     "name": "stdout",
     "output_type": "stream",
     "text": [
      "Compositional Analysis summary:\n",
      "\n",
      "Data: 6 samples, 8 cell types\n",
      "Baseline index: None\n",
      "Formula: Condition\n",
      "\n",
      "Intercepts:\n",
      "                       Final Parameter  Expected Sample\n",
      "Cell Type                                              \n",
      "Endocrine                        1.123        34.003785\n",
      "Enterocyte                       2.356       116.684282\n",
      "Enterocyte.Progenitor            2.550       141.665953\n",
      "Goblet                           1.686        59.708348\n",
      "Stem                             2.741       171.480892\n",
      "TA                               2.132        93.267513\n",
      "TA.Early                         2.898       200.631892\n",
      "Tuft                             0.462        17.557336\n",
      "\n",
      "\n",
      "Effects:\n",
      "                                         Final Parameter  Expected Sample  \\\n",
      "Covariate         Cell Type                                                 \n",
      "Condition[T.Salm] Endocrine                     0.000000        23.309476   \n",
      "                  Enterocyte                    1.454695       342.597085   \n",
      "                  Enterocyte.Progenitor         0.000000        97.111516   \n",
      "                  Goblet                        0.000000        40.929864   \n",
      "                  Stem                          0.000000       117.549552   \n",
      "                  TA                            0.000000        63.934554   \n",
      "                  TA.Early                      0.000000       137.532461   \n",
      "                  Tuft                          0.000000        12.035492   \n",
      "\n",
      "                                         log2-fold change  \n",
      "Covariate         Cell Type                                \n",
      "Condition[T.Salm] Endocrine                     -0.544779  \n",
      "                  Enterocyte                     1.553903  \n",
      "                  Enterocyte.Progenitor         -0.544779  \n",
      "                  Goblet                        -0.544779  \n",
      "                  Stem                          -0.544779  \n",
      "                  TA                            -0.544779  \n",
      "                  TA.Early                      -0.544779  \n",
      "                  Tuft                          -0.544779  \n"
     ]
    }
   ],
   "source": [
    "# saving\n",
    "path = \"test\"\n",
    "sim_results.save(path)\n",
    "\n",
    "# loading\n",
    "with open(path, \"rb\") as f:\n",
    "    sim_results_2 = pkl.load(f)\n",
    "    \n",
    "sim_results_2.summary()"
   ],
   "metadata": {
    "collapsed": false,
    "pycharm": {
     "name": "#%%\n"
    }
   }
  },
  {
   "cell_type": "markdown",
   "source": [
    "### Tweaking the model: categorical covariates, Baseline\n",
    "\n",
    "The compositional analysis models from *scCODA* are also able to automatically deal with categorical covariates via the [patsy](https://patsy.readthedocs.io/en/latest/) framework for formula specification.\n",
    "Per default, categorical variables are encoded via full-rank treatment coding. Hereby, the value of the first sample in the dataset is used as the reference (control) category.\n",
    "We can change this by tweaking the model formula to be `\"C(<CovariateName>, Treatment('<ReferenceLevelName>'))\"`:"
   ],
   "metadata": {
    "collapsed": false,
    "pycharm": {
     "name": "#%% md\n"
    }
   }
  },
  {
   "cell_type": "code",
   "execution_count": 29,
   "outputs": [
    {
     "name": "stdout",
     "output_type": "stream",
     "text": [
      "MCMC sampling finished. (53.341 sec)\n",
      "Acceptance rate: 45.9%\n",
      "Compositional Analysis summary:\n",
      "\n",
      "Data: 6 samples, 8 cell types\n",
      "Baseline index: None\n",
      "Formula: C(Condition, Treatment('Salm'))\n",
      "\n",
      "Intercepts:\n",
      "                       Final Parameter  Expected Sample\n",
      "Cell Type                                              \n",
      "Endocrine                        1.331        29.052812\n",
      "Enterocyte                       3.746       325.094290\n",
      "Enterocyte.Progenitor            2.588       102.116597\n",
      "Goblet                           1.915        52.097411\n",
      "Stem                             2.659       109.630461\n",
      "TA                               2.092        62.185090\n",
      "TA.Early                         2.917       141.898961\n",
      "Tuft                             0.521        12.924378\n",
      "\n",
      "\n",
      "Effects:\n",
      "                                                                  Final Parameter  \\\n",
      "Covariate                                  Cell Type                                \n",
      "C(Condition, Treatment('Salm'))[T.Control] Endocrine                     0.000000   \n",
      "                                           Enterocyte                   -1.412449   \n",
      "                                           Enterocyte.Progenitor         0.000000   \n",
      "                                           Goblet                        0.000000   \n",
      "                                           Stem                          0.000000   \n",
      "                                           TA                            0.000000   \n",
      "                                           TA.Early                      0.000000   \n",
      "                                           Tuft                          0.000000   \n",
      "\n",
      "                                                                  Expected Sample  \\\n",
      "Covariate                                  Cell Type                                \n",
      "C(Condition, Treatment('Salm'))[T.Control] Endocrine                    41.181249   \n",
      "                                           Enterocyte                  112.228157   \n",
      "                                           Enterocyte.Progenitor       144.746370   \n",
      "                                           Goblet                       73.846088   \n",
      "                                           Stem                        155.396986   \n",
      "                                           TA                           88.144987   \n",
      "                                           TA.Early                    201.136351   \n",
      "                                           Tuft                         18.319811   \n",
      "\n",
      "                                                                  log2-fold change  \n",
      "Covariate                                  Cell Type                                \n",
      "C(Condition, Treatment('Salm'))[T.Control] Endocrine                      0.503310  \n",
      "                                           Enterocyte                    -1.534424  \n",
      "                                           Enterocyte.Progenitor          0.503310  \n",
      "                                           Goblet                         0.503310  \n",
      "                                           Stem                           0.503310  \n",
      "                                           TA                             0.503310  \n",
      "                                           TA.Early                       0.503310  \n",
      "                                           Tuft                           0.503310  \n"
     ]
    }
   ],
   "source": [
    "# Set salmonella infection as reference category\n",
    "\n",
    "model_salm_switch_ref = mod.CompositionalAnalysis(data_salm, formula=\"C(Condition, Treatment('Salm'))\", baseline_index=None)\n",
    "switch_results = model_salm_switch_ref.sample_hmc()\n",
    "switch_results.summary()"
   ],
   "metadata": {
    "collapsed": false,
    "pycharm": {
     "name": "#%%\n"
    }
   }
  },
  {
   "cell_type": "markdown",
   "source": [
    "We can also handle multiple levels of one categorical covariate:"
   ],
   "metadata": {
    "collapsed": false,
    "pycharm": {
     "name": "#%% md\n"
    }
   }
  },
  {
   "cell_type": "code",
   "execution_count": 30,
   "outputs": [
    {
     "name": "stdout",
     "output_type": "stream",
     "text": [
      "[[ 36.  59. 136.  36. 239. 125. 191.  18.]\n",
      " [  5.  46.  23.  20.  50.  11.  40.   5.]\n",
      " [ 45.  98. 188. 124. 250. 155. 365.  33.]\n",
      " [ 26. 221. 198.  36. 131. 130. 196.   4.]\n",
      " [ 42.  71. 203. 147. 271. 109. 180. 146.]\n",
      " [ 40.  57. 383. 170. 321. 244. 256.  71.]\n",
      " [ 52.  75. 347.  66. 323. 263. 313.  51.]\n",
      " [ 65. 126. 115.  33.  65.  39. 129.  59.]\n",
      " [ 37. 332. 113.  59.  90.  47. 132.  10.]\n",
      " [ 32. 373. 116.  67. 117.  65. 168.  12.]]\n",
      "            Mouse     Condition\n",
      "0       Control_1       Control\n",
      "1       Control_2       Control\n",
      "2       Control_3       Control\n",
      "3       Control_4       Control\n",
      "4  H.poly.Day10_1  H.poly.Day10\n",
      "5  H.poly.Day10_2  H.poly.Day10\n",
      "6   H.poly.Day3_1   H.poly.Day3\n",
      "7   H.poly.Day3_2   H.poly.Day3\n",
      "8          Salm_1          Salm\n",
      "9          Salm_2          Salm\n"
     ]
    }
   ],
   "source": [
    "# Get dataset with all three diseases\n",
    "\n",
    "data_all = dat.from_pandas(cell_counts, covariate_columns=[\"Mouse\"])\n",
    "data_all.obs[\"Condition\"] = data_all.obs[\"Mouse\"].str.replace(r\"_[0-9]\", \"\")\n",
    "print(data_all.X)\n",
    "print(data_all.obs)"
   ],
   "metadata": {
    "collapsed": false,
    "pycharm": {
     "name": "#%%\n"
    }
   }
  },
  {
   "cell_type": "code",
   "execution_count": 31,
   "outputs": [
    {
     "name": "stdout",
     "output_type": "stream",
     "text": [
      "MCMC sampling finished. (50.515 sec)\n",
      "Acceptance rate: 54.2%\n",
      "Compositional Analysis summary:\n",
      "\n",
      "Data: 10 samples, 8 cell types\n",
      "Baseline index: None\n",
      "Formula: Condition\n",
      "\n",
      "Intercepts:\n",
      "                       Final Parameter  Expected Sample\n",
      "Cell Type                                              \n",
      "Endocrine                        0.916        43.964852\n",
      "Enterocyte                       1.946       123.148445\n",
      "Enterocyte.Progenitor            2.326       180.078073\n",
      "Goblet                           1.430        73.507724\n",
      "Stem                             2.419       197.628794\n",
      "TA                               1.866       113.680342\n",
      "TA.Early                         2.538       222.603129\n",
      "Tuft                             0.520        29.588640\n",
      "\n",
      "\n",
      "Effects:\n",
      "                                                 Final Parameter  \\\n",
      "Covariate                 Cell Type                                \n",
      "Condition[T.H.poly.Day10] Endocrine                     0.000000   \n",
      "                          Enterocyte                   -0.669890   \n",
      "                          Enterocyte.Progenitor         0.000000   \n",
      "                          Goblet                        0.601501   \n",
      "                          Stem                          0.000000   \n",
      "                          TA                            0.000000   \n",
      "                          TA.Early                      0.000000   \n",
      "                          Tuft                          0.905239   \n",
      "Condition[T.H.poly.Day3]  Endocrine                     0.000000   \n",
      "                          Enterocyte                    0.000000   \n",
      "                          Enterocyte.Progenitor         0.000000   \n",
      "                          Goblet                        0.000000   \n",
      "                          Stem                          0.000000   \n",
      "                          TA                            0.000000   \n",
      "                          TA.Early                      0.000000   \n",
      "                          Tuft                          0.636850   \n",
      "Condition[T.Salm]         Endocrine                     0.000000   \n",
      "                          Enterocyte                    1.524972   \n",
      "                          Enterocyte.Progenitor         0.000000   \n",
      "                          Goblet                        0.000000   \n",
      "                          Stem                          0.000000   \n",
      "                          TA                            0.000000   \n",
      "                          TA.Early                      0.000000   \n",
      "                          Tuft                          0.000000   \n",
      "\n",
      "                                                 Expected Sample  \\\n",
      "Covariate                 Cell Type                                \n",
      "Condition[T.H.poly.Day10] Endocrine                    42.080269   \n",
      "                          Enterocyte                   60.321498   \n",
      "                          Enterocyte.Progenitor       172.358904   \n",
      "                          Goblet                      128.390956   \n",
      "                          Stem                        189.157302   \n",
      "                          TA                          108.807357   \n",
      "                          TA.Early                    213.061094   \n",
      "                          Tuft                         70.022621   \n",
      "Condition[T.H.poly.Day3]  Endocrine                    42.818508   \n",
      "                          Enterocyte                  119.937458   \n",
      "                          Enterocyte.Progenitor       175.382697   \n",
      "                          Goblet                       71.591076   \n",
      "                          Stem                        192.475799   \n",
      "                          TA                          110.716228   \n",
      "                          TA.Early                    216.798950   \n",
      "                          Tuft                         54.479283   \n",
      "Condition[T.Salm]         Endocrine                    30.324186   \n",
      "                          Enterocyte                  390.300872   \n",
      "                          Enterocyte.Progenitor       124.206512   \n",
      "                          Goblet                       50.700998   \n",
      "                          Stem                        136.311894   \n",
      "                          TA                           78.409540   \n",
      "                          TA.Early                    153.537617   \n",
      "                          Tuft                         20.408380   \n",
      "\n",
      "                                                 log2-fold change  \n",
      "Covariate                 Cell Type                                \n",
      "Condition[T.H.poly.Day10] Endocrine                     -0.063207  \n",
      "                          Enterocyte                    -1.029654  \n",
      "                          Enterocyte.Progenitor         -0.063207  \n",
      "                          Goblet                         0.804576  \n",
      "                          Stem                          -0.063207  \n",
      "                          TA                            -0.063207  \n",
      "                          TA.Early                      -0.063207  \n",
      "                          Tuft                           1.242778  \n",
      "Condition[T.H.poly.Day3]  Endocrine                     -0.038116  \n",
      "                          Enterocyte                    -0.038116  \n",
      "                          Enterocyte.Progenitor         -0.038116  \n",
      "                          Goblet                        -0.038116  \n",
      "                          Stem                          -0.038116  \n",
      "                          TA                            -0.038116  \n",
      "                          TA.Early                      -0.038116  \n",
      "                          Tuft                           0.880664  \n",
      "Condition[T.Salm]         Endocrine                     -0.535882  \n",
      "                          Enterocyte                     1.664188  \n",
      "                          Enterocyte.Progenitor         -0.535882  \n",
      "                          Goblet                        -0.535882  \n",
      "                          Stem                          -0.535882  \n",
      "                          TA                            -0.535882  \n",
      "                          TA.Early                      -0.535882  \n",
      "                          Tuft                          -0.535882  \n"
     ]
    }
   ],
   "source": [
    "# model all three diseases at once\n",
    "model_all = mod.CompositionalAnalysis(data_all, formula=\"Condition\", baseline_index=None)\n",
    "switch_results = model_all.sample_hmc()\n",
    "switch_results.summary()"
   ],
   "metadata": {
    "collapsed": false,
    "pycharm": {
     "name": "#%%\n"
    }
   }
  },
  {
   "cell_type": "markdown",
   "source": [
    "*scCODA* also allows us to set a baseline cell type whose effect is always 0.\n",
    "If such a cell type exists, it is recommended to set it as the baseline to avoid interpretion issues.\n",
    "\n",
    "The baseline can easily be specified in the model setup:"
   ],
   "metadata": {
    "collapsed": false,
    "pycharm": {
     "name": "#%% md\n"
    }
   }
  },
  {
   "cell_type": "code",
   "execution_count": 32,
   "outputs": [
    {
     "name": "stdout",
     "output_type": "stream",
     "text": [
      "MCMC sampling finished. (52.722 sec)\n",
      "Acceptance rate: 58.0%\n",
      "Compositional Analysis summary:\n",
      "\n",
      "Data: 6 samples, 8 cell types\n",
      "Baseline index: 0\n",
      "Formula: Condition\n",
      "\n",
      "Intercepts:\n",
      "                       Final Parameter  Expected Sample\n",
      "Cell Type                                              \n",
      "Endocrine                        1.177        37.117317\n",
      "Enterocyte                       2.314       115.709602\n",
      "Enterocyte.Progenitor            2.514       141.328027\n",
      "Goblet                           1.655        59.864497\n",
      "Stem                             2.698       169.878524\n",
      "TA                               2.106        93.980153\n",
      "TA.Early                         2.861       199.953256\n",
      "Tuft                             0.406        17.168625\n",
      "\n",
      "\n",
      "Effects:\n",
      "                                         Final Parameter  Expected Sample  \\\n",
      "Covariate         Cell Type                                                 \n",
      "Condition[T.Salm] Endocrine                     0.000000        25.914032   \n",
      "                  Enterocyte                    1.415806       332.816222   \n",
      "                  Enterocyte.Progenitor         0.000000        98.670360   \n",
      "                  Goblet                        0.000000        41.795329   \n",
      "                  Stem                          0.000000       118.603334   \n",
      "                  TA                            0.000000        65.613705   \n",
      "                  TA.Early                      0.000000       139.600475   \n",
      "                  Tuft                          0.000000        11.986543   \n",
      "\n",
      "                                         log2-fold change  \n",
      "Covariate         Cell Type                                \n",
      "Condition[T.Salm] Endocrine                     -0.518359  \n",
      "                  Enterocyte                     1.524217  \n",
      "                  Enterocyte.Progenitor         -0.518359  \n",
      "                  Goblet                        -0.518359  \n",
      "                  Stem                          -0.518359  \n",
      "                  TA                            -0.518359  \n",
      "                  TA.Early                      -0.518359  \n",
      "                  Tuft                          -0.518359  \n"
     ]
    }
   ],
   "source": [
    "# model salmonella infection with baseline set to Endocrine cells\n",
    "model_baseline = mod.CompositionalAnalysis(data_salm, formula=\"Condition\", baseline_index=\"Endocrine\")\n",
    "baseline_results = model_baseline.sample_hmc()\n",
    "baseline_results.summary()"
   ],
   "metadata": {
    "collapsed": false,
    "pycharm": {
     "name": "#%%\n"
    }
   }
  }
 ],
 "metadata": {
  "kernelspec": {
   "name": "pycharm-d14afe01",
   "language": "python",
   "display_name": "PyCharm (scCODA_tests)"
  },
  "language_info": {
   "codemirror_mode": {
    "name": "ipython",
    "version": 3
   },
   "file_extension": ".py",
   "mimetype": "text/x-python",
   "name": "python",
   "nbconvert_exporter": "python",
   "pygments_lexer": "ipython3",
   "version": "3.7.6"
  }
 },
 "nbformat": 4,
 "nbformat_minor": 1
}