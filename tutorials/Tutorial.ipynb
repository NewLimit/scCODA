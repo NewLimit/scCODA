{
 "cells": [
  {
   "cell_type": "markdown",
   "metadata": {
    "collapsed": true,
    "pycharm": {
     "name": "#%% md\n"
    }
   },
   "source": [
    "# scCODA - Compositional analysis of single-cell data\n"
   ]
  },
  {
   "cell_type": "markdown",
   "metadata": {
    "pycharm": {
     "name": "#%% md\n"
    }
   },
   "source": [
    "\n",
    "This notebook serves as a tutorial for using the *scCODA* package to analyze changes in cell composition data.\n",
    "\n",
    "The package is intended to be used with data coming from single-cell RNA-seq experiments, however there are no \n",
    "restrictions that prevent the use of data from other sources.\n",
    "\n",
    "The data we use in the following example comes from [*Haber et al. [2017]*](https://www.nature.com/articles/nature24489).\n",
    "It contains samples from the small intestinal epithelium of mice with different conditions.\n"
   ]
  },
  {
   "cell_type": "code",
   "execution_count": 1,
   "metadata": {
    "pycharm": {
     "name": "#%%\n"
    }
   },
   "outputs": [],
   "source": [
    "# Setup\n",
    "import warnings\n",
    "warnings.filterwarnings(\"ignore\")\n",
    "\n",
    "import pandas as pd\n",
    "import matplotlib.pyplot as plt\n",
    "import seaborn as sns\n",
    "import arviz as az\n",
    "import pickle as pkl\n",
    "\n",
    "from sccoda.util import comp_ana as mod\n",
    "from sccoda.util import cell_composition_data as dat\n",
    "\n"
   ]
  },
  {
   "cell_type": "markdown",
   "metadata": {},
   "source": [
    "### Data preparation"
   ]
  },
  {
   "cell_type": "code",
   "execution_count": 2,
   "metadata": {
    "pycharm": {
     "name": "#%%\n"
    }
   },
   "outputs": [
    {
     "name": "stdout",
     "output_type": "stream",
     "text": [
      "            Mouse  Endocrine  Enterocyte  Enterocyte.Progenitor  Goblet  Stem  \\\n",
      "0       Control_1         36          59                    136      36   239   \n",
      "1       Control_2          5          46                     23      20    50   \n",
      "2       Control_3         45          98                    188     124   250   \n",
      "3       Control_4         26         221                    198      36   131   \n",
      "4  H.poly.Day10_1         42          71                    203     147   271   \n",
      "5  H.poly.Day10_2         40          57                    383     170   321   \n",
      "6   H.poly.Day3_1         52          75                    347      66   323   \n",
      "7   H.poly.Day3_2         65         126                    115      33    65   \n",
      "8          Salm_1         37         332                    113      59    90   \n",
      "9          Salm_2         32         373                    116      67   117   \n",
      "\n",
      "    TA  TA.Early  Tuft  \n",
      "0  125       191    18  \n",
      "1   11        40     5  \n",
      "2  155       365    33  \n",
      "3  130       196     4  \n",
      "4  109       180   146  \n",
      "5  244       256    71  \n",
      "6  263       313    51  \n",
      "7   39       129    59  \n",
      "8   47       132    10  \n",
      "9   65       168    12  \n"
     ]
    }
   ],
   "source": [
    "# Load data\n",
    "\n",
    "cell_counts = pd.read_csv(\"../data/haber_counts.csv\")\n",
    "\n",
    "print(cell_counts)"
   ]
  },
  {
   "cell_type": "markdown",
   "metadata": {},
   "source": [
    "Looking at the data, we see that we have 4 control samples, and 3 conditions with 2 samples each. \n",
    "To use the models in *scCODA*, we first have to convert the data into an [anndata](https://github.com/theislab/anndata) object.\n",
    "This object separates our data components: Cell counts are stored in `data.X`, covariates in `data.obs`.\n",
    "\n",
    "For our first example, we want to look at how the Salmonella infection influences the cell composition.\n",
    "\n"
   ]
  },
  {
   "cell_type": "code",
   "execution_count": 3,
   "metadata": {},
   "outputs": [
    {
     "name": "stdout",
     "output_type": "stream",
     "text": [
      "[[ 36.  59. 136.  36. 239. 125. 191.  18.]\n",
      " [  5.  46.  23.  20.  50.  11.  40.   5.]\n",
      " [ 45.  98. 188. 124. 250. 155. 365.  33.]\n",
      " [ 26. 221. 198.  36. 131. 130. 196.   4.]\n",
      " [ 37. 332. 113.  59.  90.  47. 132.  10.]\n",
      " [ 32. 373. 116.  67. 117.  65. 168.  12.]]\n",
      "       Mouse Condition\n",
      "0  Control_1   Control\n",
      "1  Control_2   Control\n",
      "2  Control_3   Control\n",
      "3  Control_4   Control\n",
      "8     Salm_1      Salm\n",
      "9     Salm_2      Salm\n"
     ]
    }
   ],
   "source": [
    "# Convert data to anndata object\n",
    "\n",
    "# Filter out control and salmonella data\n",
    "salm_indices = [0, 1, 2, 3, 8, 9]\n",
    "salm_df = cell_counts.iloc[salm_indices, :]\n",
    "\n",
    "# Convert to a CompositionalData object\n",
    "data_salm = dat.from_pandas(salm_df, covariate_columns=[\"Mouse\"])\n",
    "\n",
    "# Extract condition from mouse name and add it as an extra column to the covariates\n",
    "data_salm.obs[\"Condition\"] = data_salm.obs[\"Mouse\"].str.replace(r\"_[0-9]\", \"\")\n",
    "print(data_salm.X)\n",
    "print(data_salm.obs)"
   ]
  },
  {
   "cell_type": "markdown",
   "source": [
    "Plotting the data, we can see that there is a large increase of Enterocytes in the infected sampes, while most other cell types slightly decrease.\n",
    "Since scRNA-seq experiments are limited in the number of cells per sample, the count data is compositional, which leads to negative correlations between the cell types.\n",
    "Thus, the slight decreases in many cell types might be fully caused by the increase in Enterocytes."
   ],
   "metadata": {
    "collapsed": false,
    "pycharm": {
     "name": "#%% md\n"
    }
   }
  },
  {
   "cell_type": "code",
   "execution_count": 4,
   "outputs": [
    {
     "data": {
      "text/plain": "<Figure size 864x360 with 1 Axes>",
      "image/png": "[encoded data removed]"
     },
     "metadata": {
      "needs_background": "light"
     },
     "output_type": "display_data"
    }
   ],
   "source": [
    "fig, ax = plt.subplots(figsize=(12,5))\n",
    "df = pd.melt(salm_df, id_vars=['Mouse'], value_vars=salm_df.columns[1:])\n",
    "sns.set_context('notebook')\n",
    "sns.set_style('ticks')\n",
    "d = sns.barplot(x='variable', y = 'value', hue=df[\"Mouse\"].str.replace(r\"_[0-9]\", \"\"), data=df)\n",
    "d.set_ylabel('Cell Count')\n",
    "loc, labels = plt.xticks()\n",
    "d.set_xticklabels(labels, rotation=90)\n",
    "d.set_xlabel('Cell type')\n",
    "plt.show()"
   ],
   "metadata": {
    "collapsed": false,
    "pycharm": {
     "name": "#%%\n"
    }
   }
  },
  {
   "cell_type": "markdown",
   "source": [
    "*Note that the use of* anndata *in* scCODA *is different from the use in scRNA-seq pipelines, e.g.* scanpy.\n",
    "*To convert* scanpy *objects to a scCODA dataset, have a look at `dat.from_scanpy_list`.*"
   ],
   "metadata": {
    "collapsed": false,
    "pycharm": {
     "name": "#%% md\n"
    }
   }
  },
  {
   "cell_type": "markdown",
   "metadata": {},
   "source": [
    "### Model setup and inference\n",
    "\n",
    "We can now create the model and run inference on it. The `mod.CompositionalAnalysis` class takes our data object and performs parameter inference on it.\n",
    "\n",
    "The `formula` parameter specifies how the covariates are used in the model. It can process R-style formulas via the [patsy](https://patsy.readthedocs.io/en/latest/) package, e.g. `formula=\"Cov1 + Cov2 + Cov3\"`.\n",
    "\n",
    "The `baseline_index` parameter is used to specify a cell type that is left unchanged by the covariates.\n",
    "This feature is optional, a baseline index of `None` specifies the model without baseline specification.\n",
    "For now, we will use no baseline index."
   ]
  },
  {
   "cell_type": "code",
   "execution_count": 5,
   "metadata": {},
   "outputs": [],
   "source": [
    "model_salm = mod.CompositionalAnalysis(data_salm, formula=\"Condition\", baseline_index=None)"
   ]
  },
  {
   "cell_type": "markdown",
   "source": [
    "HMC sampling can be performed by calling `sample_hmc()` on the model, which produces a `sccoda.util.result_classes.CAResult` object."
   ],
   "metadata": {
    "collapsed": false,
    "pycharm": {
     "name": "#%% md\n"
    }
   }
  },
  {
   "cell_type": "code",
   "execution_count": 6,
   "metadata": {},
   "outputs": [
    {
     "name": "stdout",
     "output_type": "stream",
     "text": [
      "MCMC sampling finished. (56.955 sec)\n",
      "Acceptance rate: 62.8%\n"
     ]
    }
   ],
   "source": [
    "# Run MCMC\n",
    "sim_results = model_salm.sample_hmc()"
   ]
  },
  {
   "cell_type": "markdown",
   "source": [
    "### Result interpretation\n",
    "\n",
    "Calling `summary()` on the results object, we can see all relevant information for further analysis:"
   ],
   "metadata": {
    "collapsed": false,
    "pycharm": {
     "name": "#%% md\n"
    }
   }
  },
  {
   "cell_type": "code",
   "execution_count": 7,
   "outputs": [
    {
     "name": "stdout",
     "output_type": "stream",
     "text": [
      "Compositional Analysis summary:\n",
      "\n",
      "Data: 6 samples, 8 cell types\n",
      "Baseline index: None\n",
      "Formula: Condition\n",
      "\n",
      "Intercepts:\n",
      "                       Final Parameter  Expected Sample\n",
      "Cell Type                                              \n",
      "Endocrine                        1.096        33.977909\n",
      "Enterocyte                       2.332       116.945798\n",
      "Enterocyte.Progenitor            2.527       142.125513\n",
      "Goblet                           1.665        60.021964\n",
      "Stem                             2.704       169.645432\n",
      "TA                               2.116        94.227358\n",
      "TA.Early                         2.874       201.081554\n",
      "Tuft                             0.402        16.974472\n",
      "\n",
      "\n",
      "Effects:\n",
      "                                         Final Parameter  Expected Sample  \\\n",
      "Covariate         Cell Type                                                 \n",
      "Condition[T.Salm] Endocrine                     0.000000        23.290064   \n",
      "                  Enterocyte                    1.453155       342.811725   \n",
      "                  Enterocyte.Progenitor         0.000000        97.419542   \n",
      "                  Goblet                        0.000000        41.141890   \n",
      "                  Stem                          0.000000       116.282994   \n",
      "                  TA                            0.000000        64.587883   \n",
      "                  TA.Early                      0.000000       137.830797   \n",
      "                  Tuft                          0.000000        11.635105   \n",
      "\n",
      "                                         log2-fold change  \n",
      "Covariate         Cell Type                                \n",
      "Condition[T.Salm] Endocrine                     -0.544882  \n",
      "                  Enterocyte                     1.551576  \n",
      "                  Enterocyte.Progenitor         -0.544882  \n",
      "                  Goblet                        -0.544882  \n",
      "                  Stem                          -0.544882  \n",
      "                  TA                            -0.544882  \n",
      "                  TA.Early                      -0.544882  \n",
      "                  Tuft                          -0.544882  \n"
     ]
    }
   ],
   "source": [
    "sim_results.summary()"
   ],
   "metadata": {
    "collapsed": false,
    "pycharm": {
     "name": "#%%\n"
    }
   }
  },
  {
   "cell_type": "markdown",
   "source": [
    "**Model properties**\n",
    "\n",
    "First, the summary shows an overview over the model properties: \n",
    "* Number of samples/cell types\n",
    "* Index of the baseline cell type, starting at 0.\n",
    "* The formula used\n",
    "\n",
    "The model has two types of parameters that are relevant for analysis - intercepts and effects. \n",
    "These can be interpreted like in a standard regression model:\n",
    "Intercepts show how the cell types are distributed without any active covariates, effects show ho the covariates influence the cell types.\n",
    "\n",
    "**Intercepts**\n",
    "\n",
    "The first column of the intercept summary shows the parameters determined by the MCMC inference.\n",
    "\n",
    "The \"Expected sample\" column gives some context to the numerical values. \n",
    "If we take the mean number of cells over all samples from our dataset, then the model expects a new sample with exaxtly that many cells to look like this.\n",
    "\n",
    "**Effects**\n",
    "\n",
    "For the effect summary, the first column again shows the inferred parameters for all combinations of covariates and cell types.  \n",
    "A value is zero means that no significant effect was detected. \n",
    "For a value other than zero, a significant change was detected. A positive sign indicates an increase, a negative sign a decrease.\n",
    "\n",
    "The \"Expected sample\" and \"log2-fold change\" columns give us an idea on the magnitude of this increase. \n",
    "The expected sample is calculated for each covariate separately (covariate value = 1), with the same method as for the intercepts.\n",
    "The log-fold change is then calculated between this column and the expected intercept sample.\n",
    "Since the data is compositional, cell types for which no significant change was detected, are expected to change as well.\n",
    "\n",
    "**Interpretation**\n",
    "\n",
    "In the salmonella case, we see only a significant increase of Enterocytes, while all other cell types are unaffected by the disease.\n",
    "The log-fold change of Enterocytes between control and infected samples with the same total cell count lies at about 1.54."
   ],
   "metadata": {
    "collapsed": false,
    "pycharm": {
     "name": "#%% md\n"
    }
   }
  },
  {
   "cell_type": "markdown",
   "metadata": {
    "pycharm": {
     "name": "#%% md\n"
    }
   },
   "source": [
    "### Diagnostics and plotting\n",
    "\n",
    "For further analysis, `summary_extended()` gives us more information about the model:"
   ]
  },
  {
   "cell_type": "code",
   "execution_count": 8,
   "outputs": [
    {
     "name": "stdout",
     "output_type": "stream",
     "text": [
      "Compositional Analysis summary (extended):\n",
      "\n",
      "Data: 6 samples, 8 cell types\n",
      "Baseline index: None\n",
      "Formula: Condition\n",
      "Spike-and-slab threshold: 0.579\n",
      "\n",
      "MCMC Sampling: Sampled 20000 chain states (5000 burnin samples) in 56.955 sec. Acceptance rate: 62.8%\n",
      "\n",
      "Intercepts:\n",
      "                       Final Parameter  HDI 3%  HDI 97%     SD  \\\n",
      "Cell Type                                                        \n",
      "Endocrine                        1.096   0.365    1.747  0.376   \n",
      "Enterocyte                       2.332   1.746    2.890  0.309   \n",
      "Enterocyte.Progenitor            2.527   1.946    3.108  0.313   \n",
      "Goblet                           1.665   0.978    2.301  0.356   \n",
      "Stem                             2.704   2.143    3.259  0.302   \n",
      "TA                               2.116   1.496    2.714  0.326   \n",
      "TA.Early                         2.874   2.286    3.425  0.304   \n",
      "Tuft                             0.402  -0.376    1.118  0.410   \n",
      "\n",
      "                       Expected Sample  \n",
      "Cell Type                               \n",
      "Endocrine                    33.977909  \n",
      "Enterocyte                  116.945798  \n",
      "Enterocyte.Progenitor       142.125513  \n",
      "Goblet                       60.021964  \n",
      "Stem                        169.645432  \n",
      "TA                           94.227358  \n",
      "TA.Early                    201.081554  \n",
      "Tuft                         16.974472  \n",
      "\n",
      "\n",
      "Effects:\n",
      "                                         Final Parameter  HDI 3%  HDI 97%  \\\n",
      "Covariate         Cell Type                                                 \n",
      "Condition[T.Salm] Endocrine                     0.000000  -0.086    1.240   \n",
      "                  Enterocyte                    1.453155   0.907    1.895   \n",
      "                  Enterocyte.Progenitor         0.000000  -0.079    0.679   \n",
      "                  Goblet                        0.000000  -0.067    1.135   \n",
      "                  Stem                          0.000000  -0.410    0.190   \n",
      "                  TA                            0.000000  -0.527    0.326   \n",
      "                  TA.Early                      0.000000  -0.069    0.511   \n",
      "                  Tuft                          0.000000  -0.393    1.113   \n",
      "\n",
      "                                            SD  Inclusion probability  \\\n",
      "Covariate         Cell Type                                             \n",
      "Condition[T.Salm] Endocrine              0.446               0.465000   \n",
      "                  Enterocyte             0.328               1.000000   \n",
      "                  Enterocyte.Progenitor  0.297               0.325333   \n",
      "                  Goblet                 0.441               0.518533   \n",
      "                  Stem                   0.247               0.220267   \n",
      "                  TA                     0.274               0.265267   \n",
      "                  TA.Early               0.262               0.226867   \n",
      "                  Tuft                   0.407               0.380800   \n",
      "\n",
      "                                         Expected Sample  log2-fold change  \n",
      "Covariate         Cell Type                                                 \n",
      "Condition[T.Salm] Endocrine                    23.290064         -0.544882  \n",
      "                  Enterocyte                  342.811725          1.551576  \n",
      "                  Enterocyte.Progenitor        97.419542         -0.544882  \n",
      "                  Goblet                       41.141890         -0.544882  \n",
      "                  Stem                        116.282994         -0.544882  \n",
      "                  TA                           64.587883         -0.544882  \n",
      "                  TA.Early                    137.830797         -0.544882  \n",
      "                  Tuft                         11.635105         -0.544882  \n"
     ]
    }
   ],
   "source": [
    "sim_results.summary_extended()"
   ],
   "metadata": {
    "collapsed": false,
    "pycharm": {
     "name": "#%%\n"
    }
   }
  },
  {
   "cell_type": "markdown",
   "source": [
    "The spike-and-slab threshold value dpends on the number of cell types and determines the inclusion probability cutoff for significant effects.\n",
    "Further, the extended summary includes some information on the MCMC sampling procedure (chain length, burn-in, acceptance rate, duration).\n",
    "\n",
    "For both effects and intercepts, we also get the standard deviation and HPD interval endpoints of the elements of the generated Markov chain.\n",
    "The width of the credible interval can be set by e.g. `summary_extended(hdi_prob=0.9)`\n",
    "\n",
    "The effects summary also includes the spike-and-slab inclusion probability for each effect, i.e. the share of MCMC samples, for which this effect was not set to 0 by the spike-and-slab prior.\n",
    "\n",
    "We can also use the summary tables from `summary_extended()` as pandas DataFrames to tweak them further, for example we can show only the cell types with significant effects:"
   ],
   "metadata": {
    "collapsed": false,
    "pycharm": {
     "name": "#%% md\n"
    }
   }
  },
  {
   "cell_type": "code",
   "execution_count": 9,
   "outputs": [
    {
     "name": "stdout",
     "output_type": "stream",
     "text": [
      "                              Final Parameter  HDI 3%  HDI 97%     SD  \\\n",
      "Covariate         Cell Type                                             \n",
      "Condition[T.Salm] Enterocyte         1.453155   0.907    1.895  0.328   \n",
      "\n",
      "                              Inclusion probability  Expected Sample  \\\n",
      "Covariate         Cell Type                                            \n",
      "Condition[T.Salm] Enterocyte                    1.0       342.811725   \n",
      "\n",
      "                              log2-fold change  \n",
      "Covariate         Cell Type                     \n",
      "Condition[T.Salm] Enterocyte          1.551576  \n"
     ]
    }
   ],
   "source": [
    "# Intercept dataframe: sim_result.intercept_df\n",
    "# Effect dataframe: sim_result.effect_df\n",
    "\n",
    "sig_effects = sim_results.effect_df.loc[sim_results.effect_df[\"Final Parameter\"] != 0]\n",
    "print(sig_effects)"
   ],
   "metadata": {
    "collapsed": false,
    "pycharm": {
     "name": "#%%\n"
    }
   }
  },
  {
   "cell_type": "markdown",
   "source": [
    "Also, the results object supports all plotting and diagnosis functions of [arviz](https://github.com/arviz-devs/arviz).\n"
   ],
   "metadata": {
    "collapsed": false,
    "pycharm": {
     "name": "#%% md\n"
    }
   }
  },
  {
   "cell_type": "code",
   "execution_count": 10,
   "outputs": [
    {
     "data": {
      "text/plain": "<Figure size 1490.4x993.6 with 9 Axes>",
      "image/png": "[encoded data removed]"
     },
     "metadata": {},
     "output_type": "display_data"
    }
   ],
   "source": [
    "# Example: Plot Markov chain density for all effects\n",
    "az.plot_density(sim_results, var_names=\"beta\")\n",
    "plt.show()"
   ],
   "metadata": {
    "collapsed": false,
    "pycharm": {
     "name": "#%%\n"
    }
   }
  },
  {
   "cell_type": "markdown",
   "source": [
    "### Saving the results\n",
    "\n",
    "Result objects can simply be saved to disk via pickle:"
   ],
   "metadata": {
    "collapsed": false
   }
  },
  {
   "cell_type": "code",
   "execution_count": 11,
   "outputs": [
    {
     "name": "stdout",
     "output_type": "stream",
     "text": [
      "Compositional Analysis summary:\n",
      "\n",
      "Data: 6 samples, 8 cell types\n",
      "Baseline index: None\n",
      "Formula: Condition\n",
      "\n",
      "Intercepts:\n",
      "                       Final Parameter  Expected Sample\n",
      "Cell Type                                              \n",
      "Endocrine                        1.096        33.977909\n",
      "Enterocyte                       2.332       116.945798\n",
      "Enterocyte.Progenitor            2.527       142.125513\n",
      "Goblet                           1.665        60.021964\n",
      "Stem                             2.704       169.645432\n",
      "TA                               2.116        94.227358\n",
      "TA.Early                         2.874       201.081554\n",
      "Tuft                             0.402        16.974472\n",
      "\n",
      "\n",
      "Effects:\n",
      "                                         Final Parameter  Expected Sample  \\\n",
      "Covariate         Cell Type                                                 \n",
      "Condition[T.Salm] Endocrine                     0.000000        23.290064   \n",
      "                  Enterocyte                    1.453155       342.811725   \n",
      "                  Enterocyte.Progenitor         0.000000        97.419542   \n",
      "                  Goblet                        0.000000        41.141890   \n",
      "                  Stem                          0.000000       116.282994   \n",
      "                  TA                            0.000000        64.587883   \n",
      "                  TA.Early                      0.000000       137.830797   \n",
      "                  Tuft                          0.000000        11.635105   \n",
      "\n",
      "                                         log2-fold change  \n",
      "Covariate         Cell Type                                \n",
      "Condition[T.Salm] Endocrine                     -0.544882  \n",
      "                  Enterocyte                     1.551576  \n",
      "                  Enterocyte.Progenitor         -0.544882  \n",
      "                  Goblet                        -0.544882  \n",
      "                  Stem                          -0.544882  \n",
      "                  TA                            -0.544882  \n",
      "                  TA.Early                      -0.544882  \n",
      "                  Tuft                          -0.544882  \n"
     ]
    }
   ],
   "source": [
    "# saving\n",
    "path = \"test\"\n",
    "sim_results.save(path)\n",
    "\n",
    "# loading\n",
    "with open(path, \"rb\") as f:\n",
    "    sim_results_2 = pkl.load(f)\n",
    "    \n",
    "sim_results_2.summary()"
   ],
   "metadata": {
    "collapsed": false,
    "pycharm": {
     "name": "#%%\n"
    }
   }
  },
  {
   "cell_type": "markdown",
   "source": [
    "### Tweaking the model: categorical covariates, Baseline\n",
    "\n",
    "The compositional analysis models from *scCODA* are also able to automatically deal with categorical covariates via the [patsy](https://patsy.readthedocs.io/en/latest/) framework for formula specification.\n",
    "Per default, categorical variables are encoded via full-rank treatment coding. Hereby, the value of the first sample in the dataset is used as the reference (control) category.\n",
    "We can change this by tweaking the model formula to be `\"C(<CovariateName>, Treatment('<ReferenceLevelName>'))\"`:"
   ],
   "metadata": {
    "collapsed": false,
    "pycharm": {
     "name": "#%% md\n"
    }
   }
  },
  {
   "cell_type": "code",
   "execution_count": 12,
   "outputs": [
    {
     "name": "stdout",
     "output_type": "stream",
     "text": [
      "Compositional Analysis summary:\n",
      "\n",
      "Data: 6 samples, 8 cell types\n",
      "Baseline index: None\n",
      "Formula: Condition\n",
      "\n",
      "Intercepts:\n",
      "                       Final Parameter  Expected Sample\n",
      "Cell Type                                              \n",
      "Endocrine                        1.096        33.977909\n",
      "Enterocyte                       2.332       116.945798\n",
      "Enterocyte.Progenitor            2.527       142.125513\n",
      "Goblet                           1.665        60.021964\n",
      "Stem                             2.704       169.645432\n",
      "TA                               2.116        94.227358\n",
      "TA.Early                         2.874       201.081554\n",
      "Tuft                             0.402        16.974472\n",
      "\n",
      "\n",
      "Effects:\n",
      "                                         Final Parameter  Expected Sample  \\\n",
      "Covariate         Cell Type                                                 \n",
      "Condition[T.Salm] Endocrine                     0.000000        23.290064   \n",
      "                  Enterocyte                    1.453155       342.811725   \n",
      "                  Enterocyte.Progenitor         0.000000        97.419542   \n",
      "                  Goblet                        0.000000        41.141890   \n",
      "                  Stem                          0.000000       116.282994   \n",
      "                  TA                            0.000000        64.587883   \n",
      "                  TA.Early                      0.000000       137.830797   \n",
      "                  Tuft                          0.000000        11.635105   \n",
      "\n",
      "                                         log2-fold change  \n",
      "Covariate         Cell Type                                \n",
      "Condition[T.Salm] Endocrine                     -0.544882  \n",
      "                  Enterocyte                     1.551576  \n",
      "                  Enterocyte.Progenitor         -0.544882  \n",
      "                  Goblet                        -0.544882  \n",
      "                  Stem                          -0.544882  \n",
      "                  TA                            -0.544882  \n",
      "                  TA.Early                      -0.544882  \n",
      "                  Tuft                          -0.544882  \n"
     ]
    }
   ],
   "source": [
    "# saving\n",
    "path = \"test\"\n",
    "sim_results.save(path)\n",
    "\n",
    "# loading\n",
    "with open(path, \"rb\") as f:\n",
    "    sim_results_2 = pkl.load(f)\n",
    "    \n",
    "sim_results_2.summary()"
   ],
   "metadata": {
    "collapsed": false,
    "pycharm": {
     "name": "#%%\n"
    }
   }
  },
  {
   "cell_type": "markdown",
   "source": [
    "### Tweaking the model: categorical covariates, Baseline\n",
    "\n",
    "The compositional analysis models from *scCODA* are also able to automatically deal with categorical covariates via the [patsy](https://patsy.readthedocs.io/en/latest/) framework for formula specification.\n",
    "Per default, categorical variables are encoded via full-rank treatment coding. Hereby, the value of the first sample in the dataset is used as the reference (control) category.\n",
    "We can change this by tweaking the model formula to be `\"C(<CovariateName>, Treatment('<ReferenceLevelName>'))\"`:"
   ],
   "metadata": {
    "collapsed": false,
    "pycharm": {
     "name": "#%% md\n"
    }
   }
  },
  {
   "cell_type": "code",
   "execution_count": 13,
   "outputs": [
    {
     "name": "stdout",
     "output_type": "stream",
     "text": [
      "MCMC sampling finished. (53.095 sec)\n",
      "Acceptance rate: 37.1%\n",
      "Compositional Analysis summary:\n",
      "\n",
      "Data: 6 samples, 8 cell types\n",
      "Baseline index: None\n",
      "Formula: C(Condition, Treatment('Salm'))\n",
      "\n",
      "Intercepts:\n",
      "                       Final Parameter  Expected Sample\n",
      "Cell Type                                              \n",
      "Endocrine                        1.801        36.962181\n",
      "Enterocyte                       3.976       325.347958\n",
      "Enterocyte.Progenitor            2.801       100.473624\n",
      "Goblet                           2.162        53.031986\n",
      "Stem                             2.878       108.515742\n",
      "TA                               2.356        64.385938\n",
      "TA.Early                         3.080       132.806775\n",
      "Tuft                             0.792        13.475797\n",
      "\n",
      "\n",
      "Effects:\n",
      "                                                                  Final Parameter  \\\n",
      "Covariate                                  Cell Type                                \n",
      "C(Condition, Treatment('Salm'))[T.Control] Endocrine                    -0.894399   \n",
      "                                           Enterocyte                   -1.484362   \n",
      "                                           Enterocyte.Progenitor         0.000000   \n",
      "                                           Goblet                       -0.470586   \n",
      "                                           Stem                          0.000000   \n",
      "                                           TA                            0.000000   \n",
      "                                           TA.Early                      0.000000   \n",
      "                                           Tuft                          0.000000   \n",
      "\n",
      "                                                                  Expected Sample  \\\n",
      "Covariate                                  Cell Type                                \n",
      "C(Condition, Treatment('Salm'))[T.Control] Endocrine                    23.297256   \n",
      "                                           Enterocyte                  113.678378   \n",
      "                                           Enterocyte.Progenitor       154.893066   \n",
      "                                           Goblet                       51.067560   \n",
      "                                           Stem                        167.291029   \n",
      "                                           TA                           99.259237   \n",
      "                                           TA.Early                    204.738793   \n",
      "                                           Tuft                         20.774681   \n",
      "\n",
      "                                                                  log2-fold change  \n",
      "Covariate                                  Cell Type                                \n",
      "C(Condition, Treatment('Salm'))[T.Control] Endocrine                     -0.665890  \n",
      "                                           Enterocyte                    -1.517026  \n",
      "                                           Enterocyte.Progenitor          0.624456  \n",
      "                                           Goblet                        -0.054456  \n",
      "                                           Stem                           0.624456  \n",
      "                                           TA                             0.624456  \n",
      "                                           TA.Early                       0.624456  \n",
      "                                           Tuft                           0.624456  \n"
     ]
    }
   ],
   "source": [
    "# Set salmonella infection as reference category\n",
    "\n",
    "model_salm_switch_ref = mod.CompositionalAnalysis(data_salm, formula=\"C(Condition, Treatment('Salm'))\", baseline_index=None)\n",
    "switch_results = model_salm_switch_ref.sample_hmc()\n",
    "switch_results.summary()"
   ],
   "metadata": {
    "collapsed": false,
    "pycharm": {
     "name": "#%%\n"
    }
   }
  },
  {
   "cell_type": "markdown",
   "source": [
    "We can also handle multiple levels of one categorical covariate:"
   ],
   "metadata": {
    "collapsed": false,
    "pycharm": {
     "name": "#%% md\n"
    }
   }
  },
  {
   "cell_type": "code",
   "execution_count": 14,
   "outputs": [
    {
     "name": "stdout",
     "output_type": "stream",
     "text": [
      "[[ 36.  59. 136.  36. 239. 125. 191.  18.]\n",
      " [  5.  46.  23.  20.  50.  11.  40.   5.]\n",
      " [ 45.  98. 188. 124. 250. 155. 365.  33.]\n",
      " [ 26. 221. 198.  36. 131. 130. 196.   4.]\n",
      " [ 42.  71. 203. 147. 271. 109. 180. 146.]\n",
      " [ 40.  57. 383. 170. 321. 244. 256.  71.]\n",
      " [ 52.  75. 347.  66. 323. 263. 313.  51.]\n",
      " [ 65. 126. 115.  33.  65.  39. 129.  59.]\n",
      " [ 37. 332. 113.  59.  90.  47. 132.  10.]\n",
      " [ 32. 373. 116.  67. 117.  65. 168.  12.]]\n",
      "            Mouse     Condition\n",
      "0       Control_1       Control\n",
      "1       Control_2       Control\n",
      "2       Control_3       Control\n",
      "3       Control_4       Control\n",
      "4  H.poly.Day10_1  H.poly.Day10\n",
      "5  H.poly.Day10_2  H.poly.Day10\n",
      "6   H.poly.Day3_1   H.poly.Day3\n",
      "7   H.poly.Day3_2   H.poly.Day3\n",
      "8          Salm_1          Salm\n",
      "9          Salm_2          Salm\n"
     ]
    }
   ],
   "source": [
    "# Get dataset with all three diseases\n",
    "\n",
    "data_all = dat.from_pandas(cell_counts, covariate_columns=[\"Mouse\"])\n",
    "data_all.obs[\"Condition\"] = data_all.obs[\"Mouse\"].str.replace(r\"_[0-9]\", \"\")\n",
    "print(data_all.X)\n",
    "print(data_all.obs)"
   ],
   "metadata": {
    "collapsed": false,
    "pycharm": {
     "name": "#%%\n"
    }
   }
  },
  {
   "cell_type": "code",
   "execution_count": 15,
   "outputs": [
    {
     "name": "stdout",
     "output_type": "stream",
     "text": [
      "MCMC sampling finished. (52.852 sec)\n",
      "Acceptance rate: 60.4%\n",
      "Compositional Analysis summary:\n",
      "\n",
      "Data: 10 samples, 8 cell types\n",
      "Baseline index: None\n",
      "Formula: Condition\n",
      "\n",
      "Intercepts:\n",
      "                       Final Parameter  Expected Sample\n",
      "Cell Type                                              \n",
      "Endocrine                        0.932        44.556828\n",
      "Enterocyte                       1.940       122.090847\n",
      "Enterocyte.Progenitor            2.331       180.506252\n",
      "Goblet                           1.421        72.658139\n",
      "Stem                             2.416       196.520237\n",
      "TA                               1.879       114.865906\n",
      "TA.Early                         2.545       223.579133\n",
      "Tuft                             0.517        29.422669\n",
      "\n",
      "\n",
      "Effects:\n",
      "                                                 Final Parameter  \\\n",
      "Covariate                 Cell Type                                \n",
      "Condition[T.H.poly.Day10] Endocrine                     0.000000   \n",
      "                          Enterocyte                   -0.636680   \n",
      "                          Enterocyte.Progenitor         0.000000   \n",
      "                          Goblet                        0.661561   \n",
      "                          Stem                          0.000000   \n",
      "                          TA                            0.000000   \n",
      "                          TA.Early                      0.000000   \n",
      "                          Tuft                          0.971771   \n",
      "Condition[T.H.poly.Day3]  Endocrine                     0.000000   \n",
      "                          Enterocyte                    0.000000   \n",
      "                          Enterocyte.Progenitor         0.000000   \n",
      "                          Goblet                        0.000000   \n",
      "                          Stem                          0.000000   \n",
      "                          TA                            0.000000   \n",
      "                          TA.Early                      0.000000   \n",
      "                          Tuft                          0.605178   \n",
      "Condition[T.Salm]         Endocrine                     0.000000   \n",
      "                          Enterocyte                    1.523012   \n",
      "                          Enterocyte.Progenitor         0.000000   \n",
      "                          Goblet                        0.425697   \n",
      "                          Stem                          0.000000   \n",
      "                          TA                            0.000000   \n",
      "                          TA.Early                      0.000000   \n",
      "                          Tuft                          0.000000   \n",
      "\n",
      "                                                 Expected Sample  \\\n",
      "Covariate                 Cell Type                                \n",
      "Condition[T.H.poly.Day10] Endocrine                    42.038011   \n",
      "                          Enterocyte                   60.940268   \n",
      "                          Enterocyte.Progenitor       170.302155   \n",
      "                          Goblet                      132.838613   \n",
      "                          Stem                        185.410863   \n",
      "                          TA                          108.372487   \n",
      "                          TA.Early                    210.940108   \n",
      "                          Tuft                         73.357506   \n",
      "Condition[T.H.poly.Day3]  Endocrine                    43.476012   \n",
      "                          Enterocyte                  119.129285   \n",
      "                          Enterocyte.Progenitor       176.127706   \n",
      "                          Goblet                       70.895668   \n",
      "                          Stem                        191.753240   \n",
      "                          TA                          112.079600   \n",
      "                          TA.Early                    218.155767   \n",
      "                          Tuft                         52.582734   \n",
      "Condition[T.Salm]         Endocrine                    30.024335   \n",
      "                          Enterocyte                  377.292181   \n",
      "                          Enterocyte.Progenitor       121.632988   \n",
      "                          Goblet                       74.941286   \n",
      "                          Stem                        132.423910   \n",
      "                          TA                           77.401659   \n",
      "                          TA.Early                    150.657375   \n",
      "                          Tuft                         19.826278   \n",
      "\n",
      "                                                 log2-fold change  \n",
      "Covariate                 Cell Type                                \n",
      "Condition[T.H.poly.Day10] Endocrine                     -0.083952  \n",
      "                          Enterocyte                    -1.002487  \n",
      "                          Enterocyte.Progenitor         -0.083952  \n",
      "                          Goblet                         0.870478  \n",
      "                          Stem                          -0.083952  \n",
      "                          TA                            -0.083952  \n",
      "                          TA.Early                      -0.083952  \n",
      "                          Tuft                           1.318016  \n",
      "Condition[T.H.poly.Day3]  Endocrine                     -0.035427  \n",
      "                          Enterocyte                    -0.035427  \n",
      "                          Enterocyte.Progenitor         -0.035427  \n",
      "                          Goblet                        -0.035427  \n",
      "                          Stem                          -0.035427  \n",
      "                          TA                            -0.035427  \n",
      "                          TA.Early                      -0.035427  \n",
      "                          Tuft                           0.837661  \n",
      "Condition[T.Salm]         Endocrine                     -0.569514  \n",
      "                          Enterocyte                     1.627727  \n",
      "                          Enterocyte.Progenitor         -0.569514  \n",
      "                          Goblet                         0.044636  \n",
      "                          Stem                          -0.569514  \n",
      "                          TA                            -0.569514  \n",
      "                          TA.Early                      -0.569514  \n",
      "                          Tuft                          -0.569514  \n"
     ]
    }
   ],
   "source": [
    "# model all three diseases at once\n",
    "model_all = mod.CompositionalAnalysis(data_all, formula=\"Condition\", baseline_index=None)\n",
    "switch_results = model_all.sample_hmc()\n",
    "switch_results.summary()"
   ],
   "metadata": {
    "collapsed": false,
    "pycharm": {
     "name": "#%%\n"
    }
   }
  },
  {
   "cell_type": "markdown",
   "source": [
    "*scCODA* also allows us to set a baseline cell type whose effect is always 0.\n",
    "If such a cell type exists, it is recommended to set it as the baseline to avoid interpretion issues.\n",
    "\n",
    "The baseline can easily be specified in the model setup:"
   ],
   "metadata": {
    "collapsed": false,
    "pycharm": {
     "name": "#%% md\n"
    }
   }
  },
  {
   "cell_type": "code",
   "execution_count": 16,
   "outputs": [
    {
     "name": "stdout",
     "output_type": "stream",
     "text": [
      "MCMC sampling finished. (55.144 sec)\n",
      "Acceptance rate: 50.8%\n",
      "Compositional Analysis summary:\n",
      "\n",
      "Data: 6 samples, 8 cell types\n",
      "Baseline index: 0\n",
      "Formula: Condition\n",
      "\n",
      "Intercepts:\n",
      "                       Final Parameter  Expected Sample\n",
      "Cell Type                                              \n",
      "Endocrine                        1.212        37.027723\n",
      "Enterocyte                       2.348       115.314930\n",
      "Enterocyte.Progenitor            2.558       142.261499\n",
      "Goblet                           1.701        60.380542\n",
      "Stem                             2.732       169.299088\n",
      "TA                               2.141        93.753304\n",
      "TA.Early                         2.898       199.869950\n",
      "Tuft                             0.439        17.092964\n",
      "\n",
      "\n",
      "Effects:\n",
      "                                         Final Parameter  Expected Sample  \\\n",
      "Covariate         Cell Type                                                 \n",
      "Condition[T.Salm] Endocrine                     0.000000        25.828125   \n",
      "                  Enterocyte                    1.420662       332.994625   \n",
      "                  Enterocyte.Progenitor         0.000000        99.232345   \n",
      "                  Goblet                        0.000000        42.117529   \n",
      "                  Stem                          0.000000       118.092004   \n",
      "                  TA                            0.000000        65.396191   \n",
      "                  TA.Early                      0.000000       139.416244   \n",
      "                  Tuft                          0.000000        11.922937   \n",
      "\n",
      "                                         log2-fold change  \n",
      "Covariate         Cell Type                                \n",
      "Condition[T.Salm] Endocrine                     -0.519663  \n",
      "                  Enterocyte                     1.529920  \n",
      "                  Enterocyte.Progenitor         -0.519663  \n",
      "                  Goblet                        -0.519663  \n",
      "                  Stem                          -0.519663  \n",
      "                  TA                            -0.519663  \n",
      "                  TA.Early                      -0.519663  \n",
      "                  Tuft                          -0.519663  \n"
     ]
    }
   ],
   "source": [
    "# model salmonella infection with baseline set to Endocrine cells\n",
    "model_baseline = mod.CompositionalAnalysis(data_salm, formula=\"Condition\", baseline_index=\"Endocrine\")\n",
    "baseline_results = model_baseline.sample_hmc()\n",
    "baseline_results.summary()"
   ],
   "metadata": {
    "collapsed": false,
    "pycharm": {
     "name": "#%%\n"
    }
   }
  }
 ],
 "metadata": {
  "kernelspec": {
   "name": "python3",
   "language": "python",
   "display_name": "Python 3"
  },
  "language_info": {
   "codemirror_mode": {
    "name": "ipython",
    "version": 3
   },
   "file_extension": ".py",
   "mimetype": "text/x-python",
   "name": "python",
   "nbconvert_exporter": "python",
   "pygments_lexer": "ipython3",
   "version": "3.7.6"
  }
 },
 "nbformat": 4,
 "nbformat_minor": 1
}